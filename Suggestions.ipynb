{
  "nbformat": 4,
  "nbformat_minor": 0,
  "metadata": {
    "colab": {
      "provenance": [],
      "authorship_tag": "ABX9TyPh4/VecHrEAHDdGjQimtPY",
      "include_colab_link": true
    },
    "kernelspec": {
      "name": "python3",
      "display_name": "Python 3"
    },
    "language_info": {
      "name": "python"
    }
  },
  "cells": [
    {
      "cell_type": "markdown",
      "metadata": {
        "id": "view-in-github",
        "colab_type": "text"
      },
      "source": [
        "<a href=\"https://colab.research.google.com/github/choarauc/form_ch/blob/main/Suggestions.ipynb\" target=\"_parent\"><img src=\"https://colab.research.google.com/assets/colab-badge.svg\" alt=\"Open In Colab\"/></a>"
      ]
    },
    {
      "cell_type": "code",
      "source": [
        "pip install pyreadline"
      ],
      "metadata": {
        "id": "iSstGHnivzuu"
      },
      "execution_count": null,
      "outputs": []
    },
    {
      "cell_type": "code",
      "source": [
        "import pandas as pd\n",
        "\n",
        "films = {\n",
        "    'The Shawshank Redemption': 1994,\n",
        "    'The Godfather': 1972,\n",
        "    'The Godfather: Part II': 1974,\n",
        "    'The Dark Knight': 2008,\n",
        "    '12 Angry Men': 1957,\n",
        "    'Schindler\\'s List': 1993,\n",
        "    'The Lord of the Rings: The Return of the King': 2003,\n",
        "    'Pulp Fiction': 1994,\n",
        "    'The Lord of the Rings: The Fellowship of the Ring': 2001,\n",
        "    'Forrest Gump': 1994\n",
        "}\n",
        "\n",
        "df_films = pd.DataFrame.from_dict(films, orient='index', columns=['year'])\n",
        "\n",
        "def get_suggestions(text):\n",
        "    suggestions = [film for film in df_films.index.tolist() if film.lower().startswith(text.lower())]\n",
        "    return suggestions\n",
        "\n",
        "while True:\n",
        "    user_input = input('Entrez un titre de film (ou \"FIN\" pour quitter) : ')\n",
        "    if user_input == 'FIN':\n",
        "        break\n",
        "    else:\n",
        "        suggestions = get_suggestions(user_input)\n",
        "        print(\"Suggestions :\", suggestions)\n"
      ],
      "metadata": {
        "colab": {
          "base_uri": "https://localhost:8080/"
        },
        "id": "h-iikV66ux6Z",
        "outputId": "f92ffbf7-5e59-4d82-977f-338b3a1bfa80"
      },
      "execution_count": null,
      "outputs": [
        {
          "name": "stdout",
          "output_type": "stream",
          "text": [
            "Entrez un titre de film (ou \"FIN\" pour quitter) : Fo\n",
            "Suggestions : ['Forrest Gump']\n",
            "Entrez un titre de film (ou \"FIN\" pour quitter) : fo\n",
            "Suggestions : ['Forrest Gump']\n",
            "Entrez un titre de film (ou \"FIN\" pour quitter) : fin\n",
            "Suggestions : []\n",
            "Entrez un titre de film (ou \"FIN\" pour quitter) : FIN\n"
          ]
        }
      ]
    }
  ]
}
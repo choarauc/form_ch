{
  "nbformat": 4,
  "nbformat_minor": 0,
  "metadata": {
    "colab": {
      "provenance": [],
      "authorship_tag": "ABX9TyNzsneEX9aGwUUNVluidYKp",
      "include_colab_link": true
    },
    "kernelspec": {
      "name": "python3",
      "display_name": "Python 3"
    },
    "language_info": {
      "name": "python"
    }
  },
  "cells": [
    {
      "cell_type": "markdown",
      "metadata": {
        "id": "view-in-github",
        "colab_type": "text"
      },
      "source": [
        "<a href=\"https://colab.research.google.com/github/choarauc/form_ch/blob/main/correction_week4_python_function.ipynb\" target=\"_parent\"><img src=\"https://colab.research.google.com/assets/colab-badge.svg\" alt=\"Open In Colab\"/></a>"
      ]
    },
    {
      "cell_type": "markdown",
      "metadata": {
        "id": "co2X9cGIieV0"
      },
      "source": [
        "# Help for statisticians!\n",
        "\n",
        "Your fellow statisticians need you. They want to learn how to program in Python and have tons of calculations to do.\n",
        "\n",
        "Very kindly, you agree to help them. Complete the missions below.\n",
        "\n"
      ]
    },
    {
      "cell_type": "markdown",
      "metadata": {
        "id": "CLFkEk_Fm9d4"
      },
      "source": [
        "### For all functions below, please add an extra cell where you actually call the function on at least two different inputs and displays the returned value (if the function doesn't already display stuff)."
      ]
    },
    {
      "cell_type": "code",
      "metadata": {
        "id": "pIoUqiKynBbe",
        "colab": {
          "base_uri": "https://localhost:8080/"
        },
        "outputId": "8b5a0fe3-a829-4362-b206-8c032d2f3eeb"
      },
      "source": [
        "# Mission 9: Create a function that takes a day as a parameter and returns the next day (i.e. for Sunday it would return Monday). \n",
        "# You can use lists or dictionaries to solve this.\n",
        "\n",
        "\n",
        "# creer une def \n",
        "def jours(day): \n",
        "\n",
        "  #creer une liste avec les jours de la semaine \n",
        "  week = ['lundi', 'mardi', 'mercredi', 'jeudi', 'vendredi', 'samedi', 'dimanche']\n",
        "\n",
        "  # fixer un index : si je jour ' day ' est du lundi au samedi \n",
        "  if week.index(day) < 6 : \n",
        "    x = week.index(day) + 1\n",
        "\n",
        "# si = dimanche \n",
        "  elif week.index(day) == 6: \n",
        "    x = 0 \n",
        "\n",
        "  return week[x]\n",
        "\n",
        "print(jours('mardi'))\n",
        "print(jours('dimanche'))"
      ],
      "execution_count": null,
      "outputs": [
        {
          "output_type": "stream",
          "name": "stdout",
          "text": [
            "mercredi\n",
            "lundi\n"
          ]
        }
      ]
    },
    {
      "cell_type": "code",
      "source": [
        "def jour_suivant(jour):\n",
        "    jours = [\"lundi\", \"mardi\", \"mercredi\", \"jeudi\", \"vendredi\", \"samedi\", \"dimanche\"]\n",
        "    index = jours.index(jour) # obtenir l'index du jour\n",
        "    if index == len(jours) - 1: # si c'est dimanche, renvoyer lundi\n",
        "        return jours[0]\n",
        "    else:\n",
        "        return jours[index + 1] # renvoyer le jour suivant\n",
        "\n",
        "jour_suivant('dimanche')"
      ],
      "metadata": {
        "id": "PeRZY2NyZ_0c",
        "outputId": "c5472b3b-dcff-4b09-d469-0c7fe67b6ca1",
        "colab": {
          "base_uri": "https://localhost:8080/",
          "height": 36
        }
      },
      "execution_count": 4,
      "outputs": [
        {
          "output_type": "execute_result",
          "data": {
            "text/plain": [
              "'lundi'"
            ],
            "application/vnd.google.colaboratory.intrinsic+json": {
              "type": "string"
            }
          },
          "metadata": {},
          "execution_count": 4
        }
      ]
    },
    {
      "cell_type": "code",
      "metadata": {
        "id": "68rX-Y0AnGiR",
        "colab": {
          "base_uri": "https://localhost:8080/"
        },
        "outputId": "06c690a2-ff1e-4f38-90c0-974afff43e77"
      },
      "source": [
        "# Mission 10: Create a function that fills an empty list with values (words) from the following string : \n",
        "# \"After twelve soft showers are the arch-duchess' socks dry, arch-dry?\"\n",
        "\n",
        "# creation d'une fonction \n",
        "\n",
        "def mafonction(mystring): \n",
        "\n",
        "  #on va utiliser la methode rsplit = elle divise une chaine en utilisant un espace comme délimiteur et retourne chaque string \n",
        "  return [i for i in mystring.rsplit(\" \")]\n",
        "\n",
        "mafonction(\"After twelve soft showers are the arch-duchess' socks dry, arch-dry?\")"
      ],
      "execution_count": null,
      "outputs": [
        {
          "output_type": "execute_result",
          "data": {
            "text/plain": [
              "['After',\n",
              " 'twelve',\n",
              " 'soft',\n",
              " 'showers',\n",
              " 'are',\n",
              " 'the',\n",
              " \"arch-duchess'\",\n",
              " 'socks',\n",
              " 'dry,',\n",
              " 'arch-dry?']"
            ]
          },
          "metadata": {},
          "execution_count": 11
        }
      ]
    },
    {
      "cell_type": "code",
      "source": [
        "def mafonction(string):\n",
        "    words = []\n",
        "    for word in string.split():\n",
        "        words.append(word.strip(\",.'?-\"))\n",
        "    return words"
      ],
      "metadata": {
        "id": "1LUSh0E-c5tM"
      },
      "execution_count": 8,
      "outputs": []
    },
    {
      "cell_type": "code",
      "source": [
        "string = \"After twelve soft showers are the arch-duchess' socks dry, arch-dry?\"\n",
        "word_list = mafonction(string)\n",
        "print(word_list)\n"
      ],
      "metadata": {
        "id": "pZJ9enchc8Dh",
        "outputId": "0b6de17a-66dd-46c0-92da-e290898a3795",
        "colab": {
          "base_uri": "https://localhost:8080/"
        }
      },
      "execution_count": 9,
      "outputs": [
        {
          "output_type": "stream",
          "name": "stdout",
          "text": [
            "['After', 'twelve', 'soft', 'showers', 'are', 'the', 'arch-duchess', 'socks', 'dry', 'arch-dry']\n"
          ]
        }
      ]
    },
    {
      "cell_type": "code",
      "source": [
        "def mafonction(mystring): \n",
        "  word = list.split(' ')\n",
        "  return word "
      ],
      "metadata": {
        "id": "AWf_1l0FUYqi"
      },
      "execution_count": null,
      "outputs": []
    },
    {
      "cell_type": "code",
      "metadata": {
        "id": "YGNoBYBEnLAx",
        "colab": {
          "base_uri": "https://localhost:8080/"
        },
        "outputId": "31080ecc-771d-48c7-f85e-f8cbf6866358"
      },
      "source": [
        "# Mission 11: Create a function that takes a string as a parameter, and returns the same string, where every other letter\n",
        "# is written in uppercase, unless it's a consonant.\n",
        "# Example: antithetical -> AntithEtIcAl\n",
        "# Example: marvelously -> marvElOuslY\n",
        "\n",
        "# creer une fonction\n",
        "\n",
        "def my_funct(a_string):\n",
        "  a_string = a_string.lower()\n",
        "\n",
        "  a_list = []\n",
        "\n",
        "\n",
        "# parcourir chaque element \n",
        "\n",
        "  for index, element in enumerate(a_string):\n",
        "    # si l'index est pair et que l'element est une voyelle \n",
        "    if index % 2 == 0 and element in \"aeiouy\":\n",
        "      #ajoute l'element en majuscule à a_list\n",
        "      a_list.append(element.upper())\n",
        "  # sinon, ajoute l'element tel quel à la liste\n",
        "    else :\n",
        "      a_list.append(element)\n",
        "# concatener les elements de la liste en une chaine de caract \n",
        "  return \"\" .join(a_list)\n",
        "\n",
        "# si l'index est pair et que l'elem est une voyelle \n",
        "\n",
        "print(my_funct('antithetical'))\n",
        "print(my_funct('marvelously'))\n"
      ],
      "execution_count": null,
      "outputs": [
        {
          "output_type": "stream",
          "name": "stdout",
          "text": [
            "AntithEtIcAl\n",
            "marvElOuslY\n"
          ]
        }
      ]
    },
    {
      "cell_type": "code",
      "metadata": {
        "id": "IJCr_jvwnOCh",
        "colab": {
          "base_uri": "https://localhost:8080/"
        },
        "outputId": "b0f9b0e6-b292-4d8a-8cc4-343f2d185fc6"
      },
      "source": [
        "# Mission 12: Create a function that takes a number n as parameter, and then returns a list containing n lists, each containing n empty lists. \n",
        "\n",
        "def create_list(number_list): \n",
        "\n",
        "  #creation d'une liste vide \n",
        "  \n",
        "  liste_finale = []\n",
        "\n",
        "  #creation d'une liste intermediaire vide egalement\n",
        "\n",
        "  liste_inter = []\n",
        "\n",
        "  # boucle qui ajoute number list une liste vide  vide à la liste  inter \n",
        "  for i in range(number_list): \n",
        "      liste_inter.append([])\n",
        "\n",
        "  # boucle qui ajoute la liste inter à la list finale number_list fois  \n",
        "  for i in range(number_list):\n",
        "      liste_finale.append(liste_inter)\n",
        "\n",
        "  return liste_finale \n",
        "\n",
        "create_list(3)\n"
      ],
      "execution_count": 12,
      "outputs": [
        {
          "output_type": "execute_result",
          "data": {
            "text/plain": [
              "[[[], [], []], [[], [], []], [[], [], []]]"
            ]
          },
          "metadata": {},
          "execution_count": 12
        }
      ]
    },
    {
      "cell_type": "code",
      "metadata": {
        "id": "xjYGsODEnSb2",
        "colab": {
          "base_uri": "https://localhost:8080/"
        },
        "outputId": "3e5e53e5-8fb7-4284-ee9c-4c8faeb7c3a4"
      },
      "source": [
        "# Mission 13: Create a function that takes two inputs, their year of birth and first name.\n",
        "# Convert the year of birth into an int and subtract it from the current year (you can do it using a certain module :-P).\n",
        "# Then display the message: Hello [first name], today you are (or you will be this year) [age] years old.\n",
        "# When testing the function, ask the user for the parameters!\n",
        "\n",
        "\n",
        "from datetime import date \n",
        "\n",
        "year_current = date.today().year\n",
        "year_birth = int(input('ton anniversaire :'))\n",
        "firstname = input('ton prénom : ')\n",
        "\n",
        "def age(): \n",
        "  return print( \"Hello\", firstname, \", today you are (or you will be this year) \", (year_current - year_birth), \" years old. \" )\n",
        "  \n",
        "age()\n"
      ],
      "execution_count": null,
      "outputs": [
        {
          "output_type": "stream",
          "name": "stdout",
          "text": [
            "ton anniversaire :1922\n",
            "ton prénom : chris\n",
            "Hello chris , today you are (or you will be this year)  101  years old. \n"
          ]
        }
      ]
    }
  ]
}
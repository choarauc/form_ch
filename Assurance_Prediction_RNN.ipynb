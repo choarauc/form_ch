{
  "nbformat": 4,
  "nbformat_minor": 0,
  "metadata": {
    "colab": {
      "provenance": [],
      "authorship_tag": "ABX9TyMBttUg6hbwXgGWQWXds7Vd",
      "include_colab_link": true
    },
    "kernelspec": {
      "name": "python3",
      "display_name": "Python 3"
    },
    "language_info": {
      "name": "python"
    }
  },
  "cells": [
    {
      "cell_type": "markdown",
      "metadata": {
        "id": "view-in-github",
        "colab_type": "text"
      },
      "source": [
        "<a href=\"https://colab.research.google.com/github/choarauc/form_ch/blob/main/Assurance_Prediction_RNN.ipynb\" target=\"_parent\"><img src=\"https://colab.research.google.com/assets/colab-badge.svg\" alt=\"Open In Colab\"/></a>"
      ]
    },
    {
      "cell_type": "code",
      "execution_count": null,
      "metadata": {
        "id": "UU6JARGPqVNo"
      },
      "outputs": [],
      "source": []
    },
    {
      "cell_type": "markdown",
      "metadata": {
        "id": "cxMwFcjre5Jd"
      },
      "source": [
        "<hr style=\"border-width:2px;border-color:#75DFC1\">\n",
        "<center><h1>Deep-Learning - Modules complémentaires</h1></center>\n",
        "<center><h2>Régression sur des données structurées</h2></center>\n",
        "<hr style=\"border-width:2px;border-color:#75DFC1\">\n",
        "\n",
        "\n",
        "Le but de cet exercice est de s'entraîner à faire une régression sur des données structurées à l'aide d'un réseau de neurones dense.\n",
        "\n",
        " Nous allons travailler avec la base de données **```insurance.csv```**, qui contient les informations personnelles de clients d'une assurance, ainsi que les charges qu'ils ont à payer.\n",
        "\n",
        "> La structure de l'exercice est la suivante :\n",
        ">> I - [Préparation du dataset](#preparation)\n",
        ">>\n",
        ">>\n",
        ">> II - [Régression linéaire multiple classique](#linear)\n",
        ">>\n",
        ">>\n",
        ">> III - [Régression à l'aide d'un réseau de neurones dense](#dnn)\n",
        ">>\n",
        ">>\n",
        ">> IV - [Comparaison des résultats obtenus avec les deux techniques](#comparaison)\n",
        "\n",
        "- Exécuter les cellules ci-dessous pour importer le dataset et les modules nécessaires à l'exercice."
      ]
    },
    {
      "cell_type": "code",
      "source": [
        "link = 'https://raw.githubusercontent.com/choarauc/dataset/main/insurance.csv'"
      ],
      "metadata": {
        "id": "gxNo5vF7qxTl"
      },
      "execution_count": 1,
      "outputs": []
    },
    {
      "cell_type": "code",
      "metadata": {
        "id": "73FmOY-YCQcu"
      },
      "source": [
        "import pandas as pd\n",
        "import numpy as np\n",
        "import matplotlib.pyplot as plt\n",
        "%matplotlib inline\n",
        "\n",
        "from sklearn.model_selection import train_test_split\n",
        "from sklearn.preprocessing import MinMaxScaler\n",
        "\n",
        "from sklearn.linear_model import LinearRegression\n",
        "\n",
        "from tensorflow.keras import callbacks\n",
        "from tensorflow.keras import Sequential\n",
        "from tensorflow.keras.layers import Dense, Dropout\n",
        "\n",
        "from sklearn.metrics import r2_score"
      ],
      "execution_count": 2,
      "outputs": []
    },
    {
      "cell_type": "markdown",
      "metadata": {
        "id": "zyvXSuU2CfXh"
      },
      "source": [
        "# <a name=\"preparation\"></a> I - Préparation du dataset\n",
        "\n",
        "- (a) Charger le jeu de données **```insurance.csv```** dans un DataFrame ```df```.\n",
        "\n",
        "- (b) Afficher la shape de ```df``` ainsi que ses 5 premières lignes."
      ]
    },
    {
      "cell_type": "code",
      "source": [],
      "metadata": {
        "id": "5pSJxn-Iq9PR"
      },
      "execution_count": null,
      "outputs": []
    },
    {
      "cell_type": "code",
      "source": [],
      "metadata": {
        "id": "FJy8xOVTq9C6"
      },
      "execution_count": null,
      "outputs": []
    },
    {
      "cell_type": "code",
      "metadata": {
        "id": "zqzv0jPeCgVx",
        "cellView": "form"
      },
      "source": [
        "#@title\n",
        "df = pd.read_csv(link)"
      ],
      "execution_count": 3,
      "outputs": []
    },
    {
      "cell_type": "code",
      "metadata": {
        "id": "BW1MuntLCmVm",
        "cellView": "form"
      },
      "source": [
        "#@title\n",
        "print(\"Nombre de lignes dans le dataset : {}\".format(df.shape[0]))\n",
        "print(\"Nombre de colonnes dans le dataset : {}\".format(df.shape[1]))\n",
        "\n",
        "df.head()"
      ],
      "execution_count": null,
      "outputs": []
    },
    {
      "cell_type": "markdown",
      "metadata": {
        "id": "_zLD6T6thK4P"
      },
      "source": [
        "- (c) Vérifier que les colonnes de ```df``` sont du bon type, et traiter les valeurs manquantes s'il y en a."
      ]
    },
    {
      "cell_type": "code",
      "source": [],
      "metadata": {
        "id": "OvghF8QlrB3Z"
      },
      "execution_count": null,
      "outputs": []
    },
    {
      "cell_type": "code",
      "source": [],
      "metadata": {
        "id": "-RXp1N5zrBvz"
      },
      "execution_count": null,
      "outputs": []
    },
    {
      "cell_type": "code",
      "source": [],
      "metadata": {
        "id": "QXHJWR6BrBl4"
      },
      "execution_count": null,
      "outputs": []
    },
    {
      "cell_type": "code",
      "metadata": {
        "id": "_9uDIgBiKMMb",
        "cellView": "form"
      },
      "source": [
        "#@title\n",
        "df.info()"
      ],
      "execution_count": null,
      "outputs": []
    },
    {
      "cell_type": "code",
      "metadata": {
        "id": "nU5g8hUNKXAE",
        "cellView": "form"
      },
      "source": [
        "#@title\n",
        "df['children'] = df['children'].astype(str)"
      ],
      "execution_count": null,
      "outputs": []
    },
    {
      "cell_type": "code",
      "metadata": {
        "id": "HFPqQ2ZmCv0D",
        "cellView": "form"
      },
      "source": [
        "#@title\n",
        "df.isna().sum()"
      ],
      "execution_count": null,
      "outputs": []
    },
    {
      "cell_type": "markdown",
      "metadata": {
        "id": "1Z_-dQg6hZsE"
      },
      "source": [
        "- (d) Créer une visualisation pertinente pour chaque colonne de ```df```.\n",
        "\n",
        "- (e) Supprimer les colonnes qui ne vous semblent pas impacter les charges à payer."
      ]
    },
    {
      "cell_type": "code",
      "source": [],
      "metadata": {
        "id": "LkbAEXnYrJAC"
      },
      "execution_count": null,
      "outputs": []
    },
    {
      "cell_type": "code",
      "source": [],
      "metadata": {
        "id": "aAaivp25rI3p"
      },
      "execution_count": null,
      "outputs": []
    },
    {
      "cell_type": "code",
      "source": [],
      "metadata": {
        "id": "fcwoLjzJrItn"
      },
      "execution_count": null,
      "outputs": []
    },
    {
      "cell_type": "code",
      "source": [],
      "metadata": {
        "id": "60zqVNVUrIku"
      },
      "execution_count": null,
      "outputs": []
    },
    {
      "cell_type": "code",
      "metadata": {
        "id": "B0DeNYbPDEG0",
        "cellView": "form"
      },
      "source": [
        "#@title\n",
        "charges_sex = df.groupby('sex').mean()['charges']\n",
        "charges_children = df.groupby('children').mean()['charges']\n",
        "charges_smoke = df.groupby('smoker').mean()['charges']\n",
        "charges_region = df.groupby('region').mean()['charges']\n",
        "\n",
        "plt.figure(figsize=(16, 10))\n",
        "\n",
        "plt.subplot(221)\n",
        "plt.bar(charges_sex.index, charges_sex.values, color='blueviolet')\n",
        "plt.title(\"Prix moyen de l'assurance en fonction du sex\")\n",
        "plt.xlabel(\"Sex\")\n",
        "plt.ylabel(\"Prix moyen de l'assurance\")\n",
        "\n",
        "plt.subplot(222)\n",
        "plt.bar(charges_children.index, charges_children.values, color='blueviolet')\n",
        "plt.title(\"Prix moyen de l'assurance en fonction du nombre d'enfants\")\n",
        "plt.xlabel(\"Nombre d'enfants\")\n",
        "plt.ylabel(\"Prix moyen de l'assurance\")\n",
        "\n",
        "plt.subplot(223)\n",
        "plt.bar(charges_smoke.index, charges_smoke.values, color='blueviolet')\n",
        "plt.title(\"Prix moyen de l'assurance pour les fumeurs et non fumeurs\")\n",
        "plt.xlabel(\"Fumeur ?\")\n",
        "plt.ylabel(\"Prix moyen de l'assurance\")\n",
        "\n",
        "plt.subplot(224)\n",
        "plt.bar(charges_region.index, charges_region.values, color='blueviolet')\n",
        "plt.title(\"Prix moyen de l'assurance en fonction de la région\")\n",
        "plt.xlabel(\"Région\")\n",
        "plt.ylabel(\"Prix moyen de l'assurance\");"
      ],
      "execution_count": null,
      "outputs": []
    },
    {
      "cell_type": "code",
      "metadata": {
        "id": "HWMYTUKYEBHB",
        "cellView": "form"
      },
      "source": [
        "#@title\n",
        "# Variation très faible pour la région, on peut supprimer cette colonne\n",
        "df = df.drop(labels='region', axis=1)"
      ],
      "execution_count": null,
      "outputs": []
    },
    {
      "cell_type": "code",
      "metadata": {
        "id": "YdRTtriGGqvx",
        "cellView": "form"
      },
      "source": [
        "#@title\n",
        "def lissage(x,y,p):\n",
        "    x_lisse=[]\n",
        "    y_lisse=[]\n",
        "    for i in range(p,len(x)-p):\n",
        "        x_lisse.append(x[i])\n",
        "    for i in range(p,len(y)-p):\n",
        "        val=0\n",
        "        for k in range(2*p):\n",
        "            val+=y[i-p+k]\n",
        "        y_lisse.append(val/2/p)\n",
        "    return x_lisse, y_lisse"
      ],
      "execution_count": null,
      "outputs": []
    },
    {
      "cell_type": "code",
      "metadata": {
        "id": "CDBbpTpkFdO9",
        "cellView": "form"
      },
      "source": [
        "#@title\n",
        "charges_age = df.groupby('age').mean()['charges']\n",
        "charges_bmi = df.groupby('bmi').mean()['charges']\n",
        "\n",
        "plt.figure(figsize=(16, 5))\n",
        "\n",
        "plt.subplot(121)\n",
        "x = charges_age.index\n",
        "y = charges_age.values\n",
        "x_lisse, y_lisse = lissage(x, y, 3)\n",
        "plt.plot(x, y, color='turquoise', linewidth=0.7, linestyle='dashed', label='actual')\n",
        "plt.plot(x_lisse, y_lisse, color='blueviolet', linewidth=2, label='tendance')\n",
        "plt.xlim(20, 60)\n",
        "plt.xlabel('Age')\n",
        "plt.ylabel(\"Prix moyen de l'assurance\")\n",
        "plt.title(\"Prix moyen de l'assurance en fonction de l'age\")\n",
        "plt.legend()\n",
        "\n",
        "plt.subplot(122)\n",
        "x = charges_bmi.index\n",
        "y = charges_bmi.values\n",
        "x_lisse, y_lisse = lissage(x, y, 8)\n",
        "plt.plot(x, y, color='turquoise', linewidth=0.7, linestyle='dashed', label='actual')\n",
        "plt.plot(x_lisse, y_lisse, color='blueviolet', linewidth=2, label='tendance')\n",
        "plt.xlim(17, 48)\n",
        "plt.xlabel('BMI')\n",
        "plt.ylabel(\"Prix moyen de l'assurance\")\n",
        "plt.title(\"Prix moyen de l'assurance en fonction du BMI\")\n",
        "plt.legend();"
      ],
      "execution_count": null,
      "outputs": []
    },
    {
      "cell_type": "markdown",
      "metadata": {
        "id": "FzqTQjegJloh"
      },
      "source": [
        "- (f) Finir de préparer les données.\n",
        "> Cette partie regroupe :\n",
        ">> - L'encodage des variables\n",
        ">>\n",
        ">>\n",
        ">> - la séparation des variables explicatives de la variable cible\n",
        ">>\n",
        ">>\n",
        ">> - La création d'un jeu de test et d'entraînement\n",
        ">>\n",
        ">>\n",
        ">> - Le scaling de ```X_train```, ```X_test``` **et de ```y_train```, ```y_test```**\n"
      ]
    },
    {
      "cell_type": "code",
      "source": [],
      "metadata": {
        "id": "B3-h3iE9rNpP"
      },
      "execution_count": null,
      "outputs": []
    },
    {
      "cell_type": "code",
      "source": [],
      "metadata": {
        "id": "a4NSkxqXrNLD"
      },
      "execution_count": null,
      "outputs": []
    },
    {
      "cell_type": "code",
      "source": [],
      "metadata": {
        "id": "KA7zQuj6rNB-"
      },
      "execution_count": null,
      "outputs": []
    },
    {
      "cell_type": "code",
      "source": [],
      "metadata": {
        "id": "-bTlDQ_krM1t"
      },
      "execution_count": null,
      "outputs": []
    },
    {
      "cell_type": "code",
      "source": [],
      "metadata": {
        "id": "f-c7eAelrMtM"
      },
      "execution_count": null,
      "outputs": []
    },
    {
      "cell_type": "code",
      "source": [],
      "metadata": {
        "id": "dH7JHoT_rMkf"
      },
      "execution_count": null,
      "outputs": []
    },
    {
      "cell_type": "code",
      "metadata": {
        "id": "yX0FL4s0JlDn",
        "cellView": "form"
      },
      "source": [
        "#@title\n",
        "df['sex'] = df['sex'].replace({'female' : 0, 'male' : 1})\n",
        "df['smoker'] = df['smoker'].replace({'no' : 0, 'yes' : 1})\n",
        "df = pd.get_dummies(df)"
      ],
      "execution_count": null,
      "outputs": []
    },
    {
      "cell_type": "code",
      "metadata": {
        "id": "oR3IIFBNJ2YS",
        "cellView": "form"
      },
      "source": [
        "#@title\n",
        "df.head()"
      ],
      "execution_count": null,
      "outputs": []
    },
    {
      "cell_type": "code",
      "metadata": {
        "id": "i3aYZ5ceKjKF",
        "cellView": "form"
      },
      "source": [
        "#@title\n",
        "X = df.drop(labels='charges', axis=1)\n",
        "y = df['charges'].values"
      ],
      "execution_count": null,
      "outputs": []
    },
    {
      "cell_type": "code",
      "metadata": {
        "id": "r1vzWV9VKqIV",
        "cellView": "form"
      },
      "source": [
        "#@title\n",
        "X_train, X_test, y_train, y_test = train_test_split(X, y, test_size=0.2, random_state=123)"
      ],
      "execution_count": null,
      "outputs": []
    },
    {
      "cell_type": "code",
      "metadata": {
        "id": "OL5n4rMvK6mp",
        "cellView": "form"
      },
      "source": [
        "#@title\n",
        "scaler_X = MinMaxScaler()\n",
        "\n",
        "scaler_X.fit(X_train)\n",
        "X_train_scaled = pd.DataFrame(scaler_X.transform(X_train), index=X_train.index, columns=X_train.columns)\n",
        "X_test_scaled = pd.DataFrame(scaler_X.transform(X_test), index=X_test.index, columns=X_test.columns)"
      ],
      "execution_count": null,
      "outputs": []
    },
    {
      "cell_type": "code",
      "metadata": {
        "id": "gJ-kUAy_WZvq",
        "cellView": "form"
      },
      "source": [
        "#@title\n",
        "scaler_y = MinMaxScaler()\n",
        "\n",
        "y_train=np.reshape(y_train, (-1,1))\n",
        "y_test=np.reshape(y_test, (-1,1))\n",
        "\n",
        "scaler_y.fit(y_train)\n",
        "y_train_scaled = scaler_y.transform(y_train)\n",
        "y_test_scaled = scaler_y.transform(y_test)"
      ],
      "execution_count": null,
      "outputs": []
    },
    {
      "cell_type": "markdown",
      "metadata": {
        "id": "vZjn_KOfLEF_"
      },
      "source": [
        "# II - <a name=\"linear\"></a> Régression linéaire multiple classique\n",
        "\n",
        "- (a) Instancier un modèle de régression linéaire.\n",
        "\n",
        "- (b) Fit le modèle aux données d'entraînement.\n",
        "\n",
        "- (c) Effectuer une prédiction à partir des données de test (attention au scaling)."
      ]
    },
    {
      "cell_type": "code",
      "source": [],
      "metadata": {
        "id": "Kn1MYoqIrQZk"
      },
      "execution_count": null,
      "outputs": []
    },
    {
      "cell_type": "code",
      "source": [],
      "metadata": {
        "id": "VckdDBJprQOO"
      },
      "execution_count": null,
      "outputs": []
    },
    {
      "cell_type": "code",
      "metadata": {
        "id": "rTh22A8BLAf4",
        "cellView": "form"
      },
      "source": [
        "#@title\n",
        "lr = LinearRegression()\n",
        "lr.fit(X_train_scaled, y_train_scaled)"
      ],
      "execution_count": null,
      "outputs": []
    },
    {
      "cell_type": "code",
      "metadata": {
        "id": "frLfujjFTU8X",
        "cellView": "form"
      },
      "source": [
        "#@title\n",
        "y_pred_lr = scaler_y.inverse_transform(lr.predict(X_test_scaled))"
      ],
      "execution_count": null,
      "outputs": []
    },
    {
      "cell_type": "markdown",
      "metadata": {
        "id": "TIy6-A3_LHSZ"
      },
      "source": [
        "# III - <a name=\"dnn\"></a> Régression à l'aide d'un réseau de neurones dense\n",
        "\n",
        "- (a) Instancier un réseau de neurones dense de l'architecture de votre choix (attention à la couche de sortie, il s'agit d'un problème de régression).\n",
        "\n",
        "- (b) Compiler le modèle avec une métrique appropriée.\n",
        "\n",
        "- (c) Entraîner le modèle avec les paramètres de votre choix. On pourra également définir des callbacks.\n",
        "\n",
        "- (d) Effectuer une prédiction à partir des données de test (attention au scaling)."
      ]
    },
    {
      "cell_type": "code",
      "source": [],
      "metadata": {
        "id": "ecmP-kyJrjbu"
      },
      "execution_count": null,
      "outputs": []
    },
    {
      "cell_type": "code",
      "source": [],
      "metadata": {
        "id": "kBVVt-YBrnSP"
      },
      "execution_count": null,
      "outputs": []
    },
    {
      "cell_type": "code",
      "source": [],
      "metadata": {
        "id": "pRZ41p5trnIc"
      },
      "execution_count": null,
      "outputs": []
    },
    {
      "cell_type": "code",
      "source": [],
      "metadata": {
        "id": "dcBGz27jrm9_"
      },
      "execution_count": null,
      "outputs": []
    },
    {
      "cell_type": "code",
      "source": [],
      "metadata": {
        "id": "R_qeE8hPrmyI"
      },
      "execution_count": null,
      "outputs": []
    },
    {
      "cell_type": "code",
      "source": [],
      "metadata": {
        "id": "wMoDYUbKrmkQ"
      },
      "execution_count": null,
      "outputs": []
    },
    {
      "cell_type": "code",
      "source": [],
      "metadata": {
        "id": "aAyOAnjqrmYM"
      },
      "execution_count": null,
      "outputs": []
    },
    {
      "cell_type": "code",
      "metadata": {
        "id": "rtSsVD4aLY3T",
        "cellView": "form"
      },
      "source": [
        "#@title\n",
        "input_shape = (X_train_scaled.shape[1],)"
      ],
      "execution_count": null,
      "outputs": []
    },
    {
      "cell_type": "code",
      "metadata": {
        "id": "eOrXjVt9LY-n",
        "cellView": "form"
      },
      "source": [
        "#@title\n",
        "model = Sequential()\n",
        "model.add(Dense(units=10, input_shape=input_shape, activation='relu'))\n",
        "model.add(Dense(units=128, activation='relu'))\n",
        "model.add(Dense(units=2048, activation='relu'))\n",
        "model.add(Dropout(rate=0.2))\n",
        "model.add(Dense(units=256, activation='relu'))\n",
        "model.add(Dense(units=256, activation='relu'))\n",
        "model.add(Dropout(rate=0.2))\n",
        "model.add(Dense(units=256, activation='relu'))\n",
        "model.add(Dense(units=128, activation='relu'))\n",
        "model.add(Dense(units=1, activation='linear'))"
      ],
      "execution_count": null,
      "outputs": []
    },
    {
      "cell_type": "code",
      "metadata": {
        "id": "88RU0CCTLZFn",
        "cellView": "form"
      },
      "source": [
        "#@title\n",
        "early_stopping = callbacks.EarlyStopping(monitor = 'val_loss',\n",
        "                        patience = 20,\n",
        "                        mode = 'min',\n",
        "                        restore_best_weights = True)\n",
        "\n",
        "lr_plateau = callbacks.ReduceLROnPlateau(monitor = 'val_loss',\n",
        "                            patience=5,\n",
        "                            factor=0.8,\n",
        "                            verbose=2,\n",
        "                            mode='min')"
      ],
      "execution_count": null,
      "outputs": []
    },
    {
      "cell_type": "code",
      "metadata": {
        "id": "hBGr18leMFfs",
        "cellView": "form"
      },
      "source": [
        "#@title\n",
        "model.compile(loss='mae', optimizer='adam', metrics=['mse','mae'])"
      ],
      "execution_count": null,
      "outputs": []
    },
    {
      "cell_type": "code",
      "metadata": {
        "id": "Zbd00iJTMKFW",
        "cellView": "form"
      },
      "source": [
        "#@title\n",
        "history = model.fit(X_train_scaled, y_train_scaled, epochs = 200, batch_size = 30, validation_split = 0.2, callbacks = [early_stopping,lr_plateau])"
      ],
      "execution_count": null,
      "outputs": []
    },
    {
      "cell_type": "code",
      "metadata": {
        "id": "0iSLuJtGM337",
        "cellView": "form"
      },
      "source": [
        "#@title\n",
        "plt.figure(figsize=(12,4))\n",
        "plt.subplot(121)\n",
        "plt.plot(history.history['loss'])\n",
        "plt.plot(history.history['val_loss'])\n",
        "plt.title('Perte du modèle par epoch')\n",
        "plt.ylabel('perte')\n",
        "plt.xlabel('epoch')\n",
        "plt.legend(['train', 'test'], loc='right')\n",
        "\n",
        "plt.subplot(122)\n",
        "plt.plot(history.history['mse'])\n",
        "plt.plot(history.history['val_mse'])\n",
        "plt.title('Erreur du modèle par epoch')\n",
        "plt.ylabel('Erreur quadratique moyenne')\n",
        "plt.xlabel('epoch')\n",
        "plt.legend(['train', 'test'], loc='right');"
      ],
      "execution_count": null,
      "outputs": []
    },
    {
      "cell_type": "code",
      "metadata": {
        "id": "OcGVsgWUNMOz",
        "cellView": "form"
      },
      "source": [
        "#@title\n",
        "y_pred_dnn = scaler_y.inverse_transform(model.predict(X_test_scaled))"
      ],
      "execution_count": null,
      "outputs": []
    },
    {
      "cell_type": "markdown",
      "metadata": {
        "id": "isWoT8v-ZtBM"
      },
      "source": [
        "# IV - <a name=\"comparaison\"></a> Comparaison des résultats obtenus avec les deux techniques\n",
        "\n",
        "- (a) Comparer les résultats obtenus avec les deux modèles (utiliser le ```r2_score``` par exemple)."
      ]
    },
    {
      "cell_type": "code",
      "source": [],
      "metadata": {
        "id": "lIJsnriRra7c"
      },
      "execution_count": null,
      "outputs": []
    },
    {
      "cell_type": "code",
      "source": [],
      "metadata": {
        "id": "3C1KBp-nrawE"
      },
      "execution_count": null,
      "outputs": []
    },
    {
      "cell_type": "code",
      "metadata": {
        "id": "jGmHsGtNY9MK",
        "cellView": "form"
      },
      "source": [
        "#@title\n",
        "result = pd.DataFrame()\n",
        "result['y_test'] = [y_test[i][0] for i in range(len(y_test))]\n",
        "result['y_pred_lr'] = [y_pred_lr[i][0] for i in range(len(y_pred_lr))]\n",
        "result['y_pred_dnn'] = [y_pred_dnn[i][0] for i in range(len(y_pred_dnn))]\n",
        "result.head(10)"
      ],
      "execution_count": null,
      "outputs": []
    },
    {
      "cell_type": "code",
      "metadata": {
        "id": "sNSSDzesZixT",
        "cellView": "form"
      },
      "source": [
        "#@title\n",
        "print(\"r2_score du modèle lr : {}\".format(r2_score(y_test, y_pred_lr)))\n",
        "print(\"r2_score du modèle dnn : {}\".format(r2_score(y_test, y_pred_dnn)))"
      ],
      "execution_count": null,
      "outputs": []
    }
  ]
}
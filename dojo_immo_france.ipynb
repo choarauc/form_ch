{
  "nbformat": 4,
  "nbformat_minor": 0,
  "metadata": {
    "colab": {
      "provenance": [],
      "authorship_tag": "ABX9TyM6e1Xy4TfmvFRZWbTt35fA",
      "include_colab_link": true
    },
    "kernelspec": {
      "name": "python3",
      "display_name": "Python 3"
    },
    "language_info": {
      "name": "python"
    }
  },
  "cells": [
    {
      "cell_type": "markdown",
      "metadata": {
        "id": "view-in-github",
        "colab_type": "text"
      },
      "source": [
        "<a href=\"https://colab.research.google.com/github/choarauc/form_ch/blob/main/dojo_immo_france.ipynb\" target=\"_parent\"><img src=\"https://colab.research.google.com/assets/colab-badge.svg\" alt=\"Open In Colab\"/></a>"
      ]
    },
    {
      "cell_type": "markdown",
      "source": [
        "[source et exemples d'utilisation](https://www.data.gouv.fr/fr/datasets/demandes-de-valeurs-foncieres-geolocalisees/?reuses_page=6#/community-reuses)\n",
        "\n",
        "\n",
        "[data](https://files.data.gouv.fr/geo-dvf/latest/csv/)"
      ],
      "metadata": {
        "id": "a559f_PrKWze"
      }
    },
    {
      "cell_type": "code",
      "source": [
        "import pandas as pd\n",
        "\n",
        "df2018 = 'https://files.data.gouv.fr/geo-dvf/latest/csv/2018/departements/83.csv.gz'\n",
        "df2019 = 'https://files.data.gouv.fr/geo-dvf/latest/csv/2019/departements/83.csv.gz'\n",
        "df2020 = 'https://files.data.gouv.fr/geo-dvf/latest/csv/2020/departements/83.csv.gz'\n",
        "df2021 = 'https://files.data.gouv.fr/geo-dvf/latest/csv/2021/departements/83.csv.gz'\n",
        "df2022 = 'https://files.data.gouv.fr/geo-dvf/latest/csv/2022/departements/83.csv.gz'"
      ],
      "metadata": {
        "id": "mvOvoWt8JJkH"
      },
      "execution_count": 14,
      "outputs": []
    },
    {
      "cell_type": "code",
      "source": [
        "df2018 = pd.read_csv(df2018, delimiter=\",\")\n",
        "df2019 = pd.read_csv(df2019, delimiter=\",\")\n",
        "df2020 = pd.read_csv(df2020, delimiter=\",\")\n",
        "df2021 = pd.read_csv(df2021, delimiter=\",\")\n",
        "df2022 = pd.read_csv(df2022, delimiter=\",\")"
      ],
      "metadata": {
        "id": "3pXRRGC9JK6Z"
      },
      "execution_count": 17,
      "outputs": []
    },
    {
      "cell_type": "code",
      "source": [
        "df2022.info()"
      ],
      "metadata": {
        "id": "PeAAOvb7JQ4F"
      },
      "execution_count": null,
      "outputs": []
    }
  ]
}
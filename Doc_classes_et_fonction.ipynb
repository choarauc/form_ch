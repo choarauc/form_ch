{
  "nbformat": 4,
  "nbformat_minor": 0,
  "metadata": {
    "colab": {
      "provenance": [],
      "toc_visible": true,
      "authorship_tag": "ABX9TyO/N9g+T8tintneqH1cgk9E",
      "include_colab_link": true
    },
    "kernelspec": {
      "name": "python3",
      "display_name": "Python 3"
    },
    "language_info": {
      "name": "python"
    }
  },
  "cells": [
    {
      "cell_type": "markdown",
      "metadata": {
        "id": "view-in-github",
        "colab_type": "text"
      },
      "source": [
        "<a href=\"https://colab.research.google.com/github/choarauc/form_ch/blob/main/Doc_classes_et_fonction.ipynb\" target=\"_parent\"><img src=\"https://colab.research.google.com/assets/colab-badge.svg\" alt=\"Open In Colab\"/></a>"
      ]
    },
    {
      "cell_type": "markdown",
      "source": [
        "## Documentation d'une fonction"
      ],
      "metadata": {
        "id": "vZDW1JT3p5h7"
      }
    },
    {
      "cell_type": "markdown",
      "source": [
        "Il est d'usage  d'écrire une petite description qui explique comment la fonction doit être utilisée afin de la partager avec d'autres data expert \n",
        "\n",
        "Cette description est ce qu'on appelle la documentation d'une fonction.\n",
        "\n",
        "La documentation s'écrit au début de la définition d'une fonction :\n",
        "\n",
        "🎯 **Il est important d'y penser, car un jour vous regretterez que votre pair n'ai pas fait la doc, en vous arrachant les cheveux sur une fonction que vous ne comprenez pas !**\n",
        "\n",
        "Cet oubli, aussi futil peut-il paraitre fait parti intégrante de ce qu'on appelle la[ dette technique ](https://www.ionos.fr/digitalguide/sites-internet/developpement-web/explication-de-la-dette-technique/)\n",
        "\n",
        "Et pourtant c'est simple, *voici un exemple* :\n",
        "\n",
        "```\n",
        "def sort_list(a_list, order = \"ascending\"):\n",
        "    \"\"\"\n",
        "    Cette fonction trie une liste dans l'ordre spécifié par l'argument 'order'.\n",
        "\n",
        "    Paramètres:\n",
        "        list : la liste à trier.\n",
        "\n",
        "        order : Doit prendre la valeur \"ascending\" si on veut trier la liste dans l'ordre croissant.\n",
        "                Doit prendre la valeur \"descending\" sinon.\n",
        "\n",
        "    Renvoie :\n",
        "        La même liste mais triée.\n",
        "    \"\"\"\n",
        "    # instructions\n",
        "    ...\n",
        "    ...\n",
        "    ...\n",
        "    return sorted_list\n",
        "```\n",
        "\n",
        "\n",
        "Les triples guillemets \"\"\" définissent le début et la fin de la documentation.\n",
        "\n",
        "On peut afficher la documentation d'une fonction à l'aide de la fonction `help` de Python."
      ],
      "metadata": {
        "id": "u-xaWfYIp5h9"
      }
    },
    {
      "cell_type": "code",
      "source": [
        "# Afficher la documentation de la fonction len de Python. Un \"container\" désigne tout objet sur lequel on peut itérer comme une liste, un tuple, une chaîne de caractères, etc...\n",
        "\n",
        "help(len)"
      ],
      "metadata": {
        "outputId": "38e536c4-8ad6-49af-a393-37ec4e43d5fa",
        "colab": {
          "base_uri": "https://localhost:8080/"
        },
        "id": "cIGdPe1Sp5h_"
      },
      "execution_count": null,
      "outputs": [
        {
          "output_type": "stream",
          "name": "stdout",
          "text": [
            "Help on built-in function len in module builtins:\n",
            "\n",
            "len(obj, /)\n",
            "    Return the number of items in a container.\n",
            "\n"
          ]
        }
      ]
    },
    {
      "cell_type": "code",
      "source": [
        "# Liste pour la fonction suivante \n",
        "\n",
        "test_list = [[1, 2, 3, 4, 5 ,6],\n",
        "             [7, 8, 9, 10],\n",
        "             [11 , 12, 13, 14, 15, 16, 17],\n",
        "             [18, 19, 1, 21, 1, 1, 1, 1, 1, 1, 1, 1, 1, 31]]\n",
        "\n",
        "# Écrire une fonction total_len qui prend en argument une liste de listes et qui détermine le nombre total d'éléments dans cette liste. \n",
        "# Écrire une petite documentation qui décrit son utilisation.\n",
        "\n",
        "def total_len(list_of_lists):\n",
        "    \"\"\" \n",
        "    # On initialise le nombre d'éléments à 0\n",
        "    n_elements = 0\n",
        "    \n",
        "    # Pour chaque liste dans la liste de listes\n",
        "    for a_list in list_of_lists:\n",
        "        # On compte le nombre d'éléments dans la liste\n",
        "        n_elements += len(a_list)\n",
        "\n",
        "        bonne chance à la prochaine personne qui va l'utiliser !!!\n",
        "    \"\"\"\n",
        "\n",
        "    n_elements = 0    \n",
        "    for a_list in list_of_lists:\n",
        "        n_elements += len(a_list)\n",
        "        \n",
        "    return n_elements\n",
        "\n",
        "# test de la fonction \n",
        "\n",
        "print(\"La liste test_list contient\", total_len(test_list), \"éléments.\")"
      ],
      "metadata": {
        "colab": {
          "base_uri": "https://localhost:8080/"
        },
        "id": "o-cCuBGyBTcK",
        "outputId": "440fe0bc-b3d5-4af6-be24-52dfcafd8904"
      },
      "execution_count": null,
      "outputs": [
        {
          "output_type": "stream",
          "name": "stdout",
          "text": [
            "La liste test_list contient 31 éléments.\n"
          ]
        }
      ]
    },
    {
      "cell_type": "code",
      "source": [
        "help(total_len)"
      ],
      "metadata": {
        "colab": {
          "base_uri": "https://localhost:8080/"
        },
        "id": "0KIZm8oPCTCC",
        "outputId": "1ead0d6b-56bd-4019-dedb-9e4304af15cb"
      },
      "execution_count": null,
      "outputs": [
        {
          "output_type": "stream",
          "name": "stdout",
          "text": [
            "Help on function total_len in module __main__:\n",
            "\n",
            "total_len(list_of_lists)\n",
            "    # On initialise le nombre d'éléments à 0\n",
            "    n_elements = 0\n",
            "    \n",
            "    # Pour chaque liste dans la liste de listes\n",
            "    for a_list in list_of_lists:\n",
            "        # On compte le nombre d'éléments dans la liste\n",
            "        n_elements += len(a_list)\n",
            "    \n",
            "        bonne chance à la prochaine personne qui va l'utiliser !!!\n",
            "\n"
          ]
        }
      ]
    },
    {
      "cell_type": "markdown",
      "source": [
        "## Documentations des classes"
      ],
      "metadata": {
        "id": "zblYQSNyVYXS"
      }
    },
    {
      "cell_type": "markdown",
      "source": [
        "> * Comme pour les fonctions, pour être utilisable, une classe doit toujours être documentée (proprement svp).\n",
        ">\n",
        "> L'écriture de la documentation d'une classe commence et termine avec trois guillemets \"\"\" , comme pour les fonctions.\n",
        ">\n",
        "> L'intérêt d'une documentation est d'être lue et comprise par d'autres utilisateurs.\n",
        ">>\n",
        ">> Elle peut nous permettre aussi de comprendre l'intérêt d'une méthode que nous avions définie auparavant et **dont on ne se souvient plus de l'utilité**\n"
      ],
      "metadata": {
        "id": "vwvi0TmasIAh"
      }
    },
    {
      "cell_type": "code",
      "source": [
        "class Car:\n",
        "    \"\"\"\n",
        "    La classe Car permet de, presque, construire une voiture.\n",
        "\n",
        "    Paramètres\n",
        "    ----------\n",
        "    color : Chaîne de caractères : Couleur de la voiture.\n",
        "    model : Chaîne de caractères : Modèle de la voiture.\n",
        "    horsepower : Entier : Cylindrée de la voiture.\n",
        "\n",
        "    Exemple \n",
        "    -------\n",
        "    defender = Car(color = \"noir\", model = \"Defender\", horsepower = 150)\n",
        "    \"\"\"\n",
        "def __init__(self, color, model, horsepower):\n",
        "      self.color = color\n",
        "      self.model = model\n",
        "      self.horsepower = horsepower\n",
        "\n",
        "def change_color(self, new_color):\n",
        "      \"\"\"\n",
        "       Modifie la couleur d'une voiture.\n",
        "\n",
        "       Paramètres\n",
        "       ----------\n",
        "       new_color : Chaîne de caractères : Nouvelle couleur de la voiture.\n",
        "       \"\"\"\n",
        "      self.color = new_color"
      ],
      "metadata": {
        "id": "QSzpx3l2VDkT"
      },
      "execution_count": null,
      "outputs": []
    },
    {
      "cell_type": "code",
      "source": [
        "help(Car)"
      ],
      "metadata": {
        "id": "_uuH_Q9cVJDW",
        "outputId": "3a3d69b5-a263-4487-e9e3-df4de4076127",
        "colab": {
          "base_uri": "https://localhost:8080/"
        }
      },
      "execution_count": null,
      "outputs": [
        {
          "output_type": "stream",
          "name": "stdout",
          "text": [
            "Help on class Car in module __main__:\n",
            "\n",
            "class Car(builtins.object)\n",
            " |  La classe Car permet de, presque, construire une voiture.\n",
            " |  \n",
            " |  Paramètres\n",
            " |  ----------\n",
            " |  color : Chaîne de caractères : Couleur de la voiture.\n",
            " |  model : Chaîne de caractères : Modèle de la voiture.\n",
            " |  horsepower : Entier : Cylindrée de la voiture.\n",
            " |  \n",
            " |  Exemple \n",
            " |  -------\n",
            " |  defender = Car(color = \"noir\", model = \"Defender\", horsepower = 150)\n",
            " |  \n",
            " |  Data descriptors defined here:\n",
            " |  \n",
            " |  __dict__\n",
            " |      dictionary for instance variables (if defined)\n",
            " |  \n",
            " |  __weakref__\n",
            " |      list of weak references to the object (if defined)\n",
            "\n"
          ]
        }
      ]
    }
  ]
}
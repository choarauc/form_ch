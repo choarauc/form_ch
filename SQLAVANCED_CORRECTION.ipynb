{
  "nbformat": 4,
  "nbformat_minor": 0,
  "metadata": {
    "colab": {
      "provenance": [],
      "toc_visible": true,
      "authorship_tag": "ABX9TyPBVwrN4sxLs1HHFJJLZv+6",
      "include_colab_link": true
    },
    "kernelspec": {
      "name": "python3",
      "display_name": "Python 3"
    },
    "language_info": {
      "name": "python"
    }
  },
  "cells": [
    {
      "cell_type": "markdown",
      "metadata": {
        "id": "view-in-github",
        "colab_type": "text"
      },
      "source": [
        "<a href=\"https://colab.research.google.com/github/choarauc/form_ch/blob/main/SQLAVANCED_CORRECTION.ipynb\" target=\"_parent\"><img src=\"https://colab.research.google.com/assets/colab-badge.svg\" alt=\"Open In Colab\"/></a>"
      ]
    },
    {
      "cell_type": "markdown",
      "source": [
        " The top 3 most popular movies"
      ],
      "metadata": {
        "id": "uOHgYc9B4aAe"
      }
    },
    {
      "cell_type": "code",
      "source": [
        " SELECT m.original_title, m.popularity \n",
        " FROM movies as m\n",
        " ORDER BY m.popularity DESC\n",
        " LIMIT 3;"
      ],
      "metadata": {
        "id": "tA5zJltb4W3X"
      },
      "execution_count": null,
      "outputs": []
    },
    {
      "cell_type": "markdown",
      "source": [
        "# View"
      ],
      "metadata": {
        "id": "O6_JynmMzkdc"
      }
    },
    {
      "cell_type": "markdown",
      "source": [
        "créer une VIEW qui contient les réalisatrices, chacun de leur film ainsi que le nombre de votant par film.\n",
        "Enfin, à partir de cette vue, on veut le classement des réalisatrices en fonction du nombre de films, pour les films ayant plus de 1000 votants.\n"
      ],
      "metadata": {
        "id": "VNgUO1ZRzqmn"
      }
    },
    {
      "cell_type": "code",
      "source": [
        "#crée une vue nommée \"realisatrice\". \n",
        "# Les vues sont des objets de base de données qui stockent des requêtes SQL et renvoient des résultats dynamiques en fonction des données de la base de données.\n",
        "\n",
        "CREATE VIEW realisatrice AS\n",
        "\n",
        "# sélectionne les noms des réalisatrice et le nombre de votes que chaque film a obtenu\n",
        "SELECT d.name, m.original_title, m.vote_count \n",
        "\n",
        "# que les données à récupérer proviennent de deux tables différentes, \"directors\" et \"movies\", qui sont jointes en utilisant la clé étrangère \"id\" de la table \"directors\" et la clé primaire \"director_id\" de la table \"movies\".\n",
        "FROM directors d\n",
        "JOIN movies m ON d.id = m.director_id\n",
        "\n",
        "# filtre les réalisatrices en fonction de leur genre (le chiffre 1 étant souvent utilisé pour représenter les femmes dans les bases de données).\n",
        "WHERE d.gender = 1;\n",
        "\n",
        "# sélectionne les noms des réalisatrices et compte le nombre de films qu'elles ont réalisés, en utilisant la vue \"realisatrice\" créée à la ligne 1.\n",
        "SELECT r.name, count(*) number_of_movies\n",
        "FROM realisatrice r\n",
        "\n",
        "# ligne filtre les réalisatrices en fonction du nombre de votes que leurs films ont reçus (en utilisant la colonne \"vote_count\" de la vue \"realisatrice\").\n",
        "WHERE r.vote_count > 1000\n",
        "\n",
        "# regroupe les données par nom de réalisatrice, afin que le nombre de films qu'elles ont réalisés puisse être compté.\n",
        "GROUP BY r.name\n",
        "ORDER BY number_of_movies DESC;\n"
      ],
      "metadata": {
        "id": "qVC_2c7IzpKF"
      },
      "execution_count": null,
      "outputs": []
    },
    {
      "cell_type": "markdown",
      "source": [
        "# Window Function "
      ],
      "metadata": {
        "id": "EfmckmB61pGo"
      }
    },
    {
      "cell_type": "markdown",
      "source": [
        "Pour chaque réalisateur, Le top 3 des films dont la note moyenne est supérieure à 8 et réalisé après 2000, en fonction de la note moyenne."
      ],
      "metadata": {
        "id": "sxBvDJ4e1tpv"
      }
    },
    {
      "cell_type": "code",
      "source": [
        "RANK()      \n",
        "# sélectionne toutes les colonnes de la requête.\n",
        "      SELECT *\n",
        "\n",
        "# crée une sous-requête qui sélectionne les noms des réalisateurs, les titres des films qu'ils ont réalisés, la note moyenne des films et leur classement en fonction de leur note moyenne. \n",
        "           FROM ( SELECT d.name,\n",
        "               m.original_title,\n",
        "               m.vote_average,\n",
        "               RANK() OVER( PARTITION BY d.name\n",
        "                                       ORDER BY m.vote_average DESC ) as Ranking # La fonction RANK() OVER() permet de classer les films en fonction de leur note moyenne, en partitionnant les résultats par nom de réalisateur.\n",
        "                    FROM movies m\n",
        "                    INNER JOIN directors d ON m.director_id = d.id\n",
        "                    WHERE m.vote_average > 8 AND m.release_date > 2000 ) # Les résultats sont filtrés pour n'inclure que les films ayant une note moyenne supérieure à 8 et une date de sortie ultérieure à l'an 2000\n",
        "      WHERE Ranking < 4\n",
        "\n",
        "## filtre les résultats pour n'afficher que les trois premiers films de chaque réalisateur, en utilisant le classement créé dans la sous-requête. \n",
        "# Les réalisateurs dont les films n'ont pas été classés dans les trois premiers ne seront pas inclus dans les résultats."
      ],
      "metadata": {
        "id": "MOTxbGYE1x9M"
      },
      "execution_count": null,
      "outputs": []
    },
    {
      "cell_type": "markdown",
      "source": [
        "# Buckets\n"
      ],
      "metadata": {
        "id": "ZbNnt0Ym4KbU"
      }
    },
    {
      "cell_type": "markdown",
      "source": [
        "Pour chaque film, on aimerait une information supplémentaire (donc une colonne supplémentaire). Tu vas créer plusieurs intervalles:\n",
        "[1$ - 100$, 100$ - 10k$, 10k$ - 100k$, 100k$ - 1M$, 1M$ - 100M$, 100M$ - 250M$, > 250M$]\n",
        "En plus de cette information, tu afficheras pour chaque film: le nom du réalisateur, le titre du film et le budget."
      ],
      "metadata": {
        "id": "xXekMSOo4MrI"
      }
    },
    {
      "cell_type": "code",
      "source": [
        "\n",
        "# sélectionne les noms des réalisateurs, les titres originaux des films et les budgets de chaque film\n",
        "SELECT d.name, m.original_title, m.budget,\n",
        "\n",
        "# L'opération \"CASE\" est utilisée pour établir des conditions et affecter une plage de budget spécifique à chaque film.\n",
        "CASE WHEN m.budget BETWEEN 1 AND 100 THEN '1$ - 100$'\n",
        "\t WHEN m.budget BETWEEN 100 AND 10000 THEN '100$ - 10k$'\n",
        "\t WHEN m.budget BETWEEN 10000 AND 100000 THEN '10k$ - 100k$'\n",
        "\t WHEN m.budget BETWEEN 100000 AND 1000000 THEN '100k$ - 1M$'\n",
        "\t WHEN m.budget BETWEEN 1000000 AND 100000000 THEN '1M$ - 100M$'\n",
        "\t WHEN m.budget BETWEEN 100000000 AND 250000000 THEN '100M$ - 250M$'\n",
        "\t WHEN m.budget > 250000000 THEN '> 250M$'\n",
        "\t ELSE '0'\n",
        "\t END AS Buckets_budget_$ #  ajoute une colonne supplémentaire \"Buckets_budget_$\" en fonction des plages de budgets auxquelles chaque film appartient.\n",
        "\n",
        "\n",
        "FROM movies m\n",
        "JOIN directors d ON m.director_id = d.id\n",
        "ORDER BY m.budget DESC; #résultats par ordre décroissant de budget, de sorte que les films avec le budget le plus élevé apparaissent en premier dans les résultats."
      ],
      "metadata": {
        "id": "F822CScS2ZXK"
      },
      "execution_count": null,
      "outputs": []
    },
    {
      "cell_type": "markdown",
      "source": [
        "# MAX() OVER()"
      ],
      "metadata": {
        "id": "rZA-Gm9r6fk1"
      }
    },
    {
      "cell_type": "markdown",
      "source": [
        "Pour chaque film, le nom du réalisateur(trice), le nom du film, le nombre de votant et le genre.\n",
        "Aussi, il faut une colonne qui contient le nombre maximum de votant pour un film dont le réalisateur(trice) appartient au genre masculin ou féminin."
      ],
      "metadata": {
        "id": "7_lQhT-H6mYe"
      }
    },
    {
      "cell_type": "code",
      "source": [
        "\n",
        "#le nom du réalisateur, le titre original du film, le nombre de votes et le genre du réalisateur.\n",
        "SELECT d.name,m.original_title, m.vote_count, d.gender,\n",
        "\t   MAX(m.vote_count) OVER (PARTITION BY d.gender) as max_amount_vote\n",
        "#utilise une fonction de fenêtre MAX pour trouver le nombre de votes maximum pour chaque genre de réalisateur, en partitionnant la table par la colonne gender qui contient les genres. \n",
        "# La fonction de fenêtre calcule la valeur maximale de la colonne vote_count pour chaque groupe défini par le genre du réalisateur, \n",
        "# et ajoute cette valeur maximale comme colonne dans le résultat sous le nom max_amount_vote.\n",
        "\n",
        "FROM movies m \n",
        "JOIN directors d ON d.id = m.director_id \n",
        "WHERE d.gender IS NOT 0; # ou > 0 "
      ],
      "metadata": {
        "id": "hSeoGKuy6m3i"
      },
      "execution_count": null,
      "outputs": []
    },
    {
      "cell_type": "markdown",
      "source": [
        "# Percent Rank"
      ],
      "metadata": {
        "id": "S7xBVdVu0hTT"
      }
    },
    {
      "cell_type": "markdown",
      "source": [
        "utiliser PERCENT_RANK afin de créer des buckets qui auront quasiment le même nombre de films.\n",
        "Pour chaque film, on aimerait une information supplémentaire (donc une colonne supplémentaire). Tu vas créer plusieurs buckets:\n",
        "[0 - 0.2 Percentile, 0.2 - 0.4 Percentile, 0.4 - 0.6 Percentile, 0.6 - 0.8 Percentile, 0.8 - 1 Percentile]\n",
        "En plus de cette information, tu afficheras pour chaque film: le nom du réalisateur, le titre du film et le budget.\n"
      ],
      "metadata": {
        "id": "01yXcJmL0kMr"
      }
    },
    {
      "cell_type": "code",
      "execution_count": null,
      "metadata": {
        "id": "1MASKUNfzYMA"
      },
      "outputs": [],
      "source": [
        "\n",
        "# sélectionne toutes les colonnes de la requête.\n",
        "SELECT *,\n",
        "\n",
        "# crée une expression de cas qui catégorise les résultats en fonction de leur pourcentage de classement.\n",
        "# Les pourcentages de classement sont divisés en cinq groupes différents, et les résultats sont étiquetés en conséquence.\n",
        "CASE WHEN percent_ranking >= 0 AND percent_ranking <= 0.2 THEN '0 - 0.2 Percentile'\n",
        "\t   WHEN percent_ranking > 0.2 AND percent_ranking  <= 0.4 THEN '0.2 - 0.4 Percentile'\n",
        "\t   WHEN percent_ranking > 0.4 AND percent_ranking  <= 0.6 THEN '0.4 - 0.6 Percentile'\n",
        "\t   WHEN percent_ranking > 0.6 AND percent_ranking  <= 0.8 THEN '0.6 - 0.8 Percentile'\n",
        "\t   ELSE '0.8 - 1 Percentile'\n",
        "\t  END Budget_Bucket_$\n",
        "\n",
        "# crée une sous-requête qui sélectionne les noms des réalisateurs, les titres des films qu'ils ont réalisés, le budget des films \n",
        "# et leur pourcentage de classement par rapport au budget total des films. Seuls les films ayant un budget supérieur à 0 sont inclus.\n",
        "FROM (\n",
        "\tSELECT d.name, \n",
        "\tm.original_title, \n",
        "\tm.budget,\n",
        "\tPERCENT_RANK() OVER (ORDER BY m.budget) as Percent_ranking  # La fonction PERCENT_RANK() OVER() permet de calculer le pourcentage de classement de chaque film par rapport au budget total des films.\n",
        "\tFROM\n",
        "\t  movies m \n",
        "\t      JOIN directors d ON d.id = m.director_id \n",
        "\t      WHERE m.budget > 0 #pour n'inclure que les films ayant un budget supérieur à 0\n",
        "\t      )"
      ]
    },
    {
      "cell_type": "markdown",
      "source": [
        "# Ntile()"
      ],
      "metadata": {
        "id": "n097bYZl2aAk"
      }
    },
    {
      "cell_type": "markdown",
      "source": [
        "On aimerait avoir ici 5 Buckets, ou chacun des buckets on respectivement [752, 752, 752, 752, 751]films.\n",
        "Pour chaque bucket, on veut le nombre de films, le plus petit budget de chaque bucket, le plus gros budget de chaque bucket, et enfin le budget moyen pour chaque bucket."
      ],
      "metadata": {
        "id": "JsyEZsUv2eCP"
      }
    },
    {
      "cell_type": "code",
      "source": [
        "# sélectionne les colonnes nécessaires pour les résultats finaux, qui incluent le nombre de films, le budget minimum, le budget maximum et le budget moyen\n",
        "\n",
        "SELECT  COUNT(name) as Number_of_movies_per_bucket, \n",
        "\t\tMIN(budget) as Minimum_budget, \n",
        "\t\tMAX(budget) as Maximum_budget,\n",
        "\t\tROUND(AVG(budget)) as Average_Budget # La fonction ROUND() est utilisée pour arrondir le budget moyen à un nombre entier.\n",
        "\n",
        "#  crée une sous-requête qui sélectionne les noms des réalisateurs, les titres des films qu'ils ont réalisés, \n",
        "\n",
        "FROM (\n",
        "\tSELECT d.name,\n",
        "\t\tm.original_title,\n",
        "\t\tNTILE(5) OVER(ORDER BY m.budget) AS budget_group, # le budget des films et le groupe de budget pour chaque film, qui est déterminé en utilisant la fonction \n",
        "\t\tbudget                                            # la fonction NTILE() OVER() pour diviser les films en cinq groupes en fonction de leur budget.\n",
        "\tFROM movies m \n",
        "\tJOIN directors d ON d.id = m.director_id \n",
        "\tWHERE budget > 0  #  en filtrant les résultats pour n'inclure que les films ayant un budget supérieur à 0\n",
        "\t)\n",
        "GROUP BY budget_group # regroupe les résultats en fonction du groupe de budget de chaque film."
      ],
      "metadata": {
        "id": "DRmbGito2bYm"
      },
      "execution_count": null,
      "outputs": []
    }
  ]
}
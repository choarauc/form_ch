{
  "nbformat": 4,
  "nbformat_minor": 0,
  "metadata": {
    "colab": {
      "provenance": [],
      "toc_visible": true,
      "include_colab_link": true
    },
    "kernelspec": {
      "name": "python3",
      "display_name": "Python 3"
    },
    "language_info": {
      "name": "python"
    }
  },
  "cells": [
    {
      "cell_type": "markdown",
      "metadata": {
        "id": "view-in-github",
        "colab_type": "text"
      },
      "source": [
        "<a href=\"https://colab.research.google.com/github/choarauc/form_ch/blob/main/Matplot.ipynb\" target=\"_parent\"><img src=\"https://colab.research.google.com/assets/colab-badge.svg\" alt=\"Open In Colab\"/></a>"
      ]
    },
    {
      "cell_type": "markdown",
      "source": [
        "# Matplotlib "
      ],
      "metadata": {
        "id": "1KtrsTWbLjUY"
      }
    },
    {
      "cell_type": "code",
      "source": [
        "%matplotlib inline\n",
        "import matplotlib.pyplot as plt\n",
        "import numpy as np"
      ],
      "metadata": {
        "id": "JEOKffhnAHvT"
      },
      "execution_count": null,
      "outputs": []
    },
    {
      "cell_type": "code",
      "source": [
        "import pandas as pd\n",
        "import random\n",
        "\n",
        "# Créer une liste de mois\n",
        "months = pd.date_range(start='2021-01-01', end='2022-12-01', freq='MS').strftime(\"%b-%y\").tolist()\n",
        "\n",
        "# Générer des données aléatoires pour chaque mois\n",
        "data = {'Month': months,\n",
        "        'Product1': [random.randint(100, 600) for _ in range(24)],\n",
        "        'Product2': [random.randint(100, 600) for _ in range(24)],\n",
        "        'Returns': [random.randint(0, 40) for _ in range(24)],\n",
        "        'Turnover': [random.randint(10000, 50000) for _ in range(24)]}\n",
        "\n",
        "# Créer le df\n",
        "df = pd.DataFrame(data)\n",
        "\n",
        "# Afficher le df\n",
        "df"
      ],
      "metadata": {
        "id": "OieyJ0EI_zLb"
      },
      "execution_count": null,
      "outputs": []
    },
    {
      "cell_type": "markdown",
      "source": [
        "## Tracer des courbes"
      ],
      "metadata": {
        "id": "Lu9pMC_C_-bq"
      }
    },
    {
      "cell_type": "markdown",
      "source": [
        "Une courbe est par définition un ensemble de points de coordonnées (x, y) reliés par une ligne brisée. Plus le nombre de points est important, plus la courbe aura un aspect lisse.\n",
        "\n",
        "La méthode plot permet de tracer des courbes qui relient des points dont les abscisses et ordonnées sont fournies dans des listes ou tableaux.\n",
        "Pour tracer un graphe avec les valeurs 'x' en abscisses et les valeurs 'y' en ordonnées on écrit: plt.plot(x,y)\n",
        "\n",
        "+ Tracer une courbe prenant en abscisses les valeurs [0,2,4,6] et en ordonnées les valeurs [1,4,4,8]."
      ],
      "metadata": {
        "id": "D_CQrvWXACLK"
      }
    },
    {
      "cell_type": "code",
      "source": [],
      "metadata": {
        "id": "X1viuVmHigxM"
      },
      "execution_count": null,
      "outputs": []
    },
    {
      "cell_type": "code",
      "source": [
        "#@title\n",
        "x = [0,2,4,6]\n",
        "y = [1,4,4,8]\n",
        "\n",
        "plt.plot(x,y);"
      ],
      "metadata": {
        "id": "gkXCWb8s_93d",
        "cellView": "form"
      },
      "execution_count": null,
      "outputs": []
    },
    {
      "cell_type": "markdown",
      "source": [
        "Si l'on n'insère qu'une seule liste ou tableau dans la commande plot, matplotlib présume que c'est une séquence de valeurs à afficher en ordonnées et génère les valeurs des abscisses automatiquement. Les valeurs des abscisses seront les positions des valeurs de y à partir de 0.\n",
        "\n",
        "+ Tracer une courbe à partir de la liste [1,3,2,4]."
      ],
      "metadata": {
        "id": "yE4elJA7ANNQ"
      }
    },
    {
      "cell_type": "code",
      "source": [],
      "metadata": {
        "id": "fxHxPSBbihiI"
      },
      "execution_count": null,
      "outputs": []
    },
    {
      "cell_type": "code",
      "source": [
        "#@title\n",
        "x = [1,3,2,4]\n",
        "\n",
        "plt.plot(x);"
      ],
      "metadata": {
        "id": "siojS8TUAPe8",
        "cellView": "form"
      },
      "execution_count": null,
      "outputs": []
    },
    {
      "cell_type": "markdown",
      "source": [
        "Pour ajouter un titre aux graphes on utilise la méthode title.\n",
        "Pour ajouter des labels aux axes on utilise les méthodes xlabel et ylabel.\n",
        "\n",
        "+ Tracer une courbe passant par les points suivants: (50,1) , (140,2) , (200,4).\n",
        "+ Donner à la figure le titre 'Le titre de ma courbe'.\n",
        "+ Donner respectivement à l'axe des abscisses et l'axe des ordonnées les labels 'abscisses' et 'ordonnees'."
      ],
      "metadata": {
        "id": "LniLJNWCATYa"
      }
    },
    {
      "cell_type": "code",
      "source": [],
      "metadata": {
        "id": "HC6WEpbXiicN"
      },
      "execution_count": null,
      "outputs": []
    },
    {
      "cell_type": "code",
      "source": [
        "#@title\n",
        "plt.title('Le titre de ma courbe')\n",
        "plt.plot([50,140,200], [1,2,4])\n",
        "plt.xlabel('Abscisses')\n",
        "plt.ylabel('Ordonnees');"
      ],
      "metadata": {
        "id": "HHslH7_oAWRm",
        "cellView": "form"
      },
      "execution_count": null,
      "outputs": []
    },
    {
      "cell_type": "markdown",
      "source": [
        "Il est possible de délimiter les domaines des abscisses et des ordonnées en utilisant la méthode axis.\n",
        "Elle s'utilise ainsi : axis([xmin, xmax, ymin, ymax]).\n",
        "Pour fixer indépendamment le domaines des abscisses ou des ordonnées on peut utiliser respectivement xlim([xmin, xmax]) ou ylim([ymin, ymax]).\n",
        "\n",
        "+ Tracer une courbe passant par les points suivants: (50,1) , (140,2) , (200,4).\n",
        "+ Encadrer le graphique entre les abscisses 80 et 180 et les ordonnées de 1 à 5."
      ],
      "metadata": {
        "id": "eR1ZWRyCAaTQ"
      }
    },
    {
      "cell_type": "code",
      "source": [],
      "metadata": {
        "id": "zI9a5HG_ilRG"
      },
      "execution_count": null,
      "outputs": []
    },
    {
      "cell_type": "code",
      "source": [
        "#@title\n",
        "plt.axis([80, 180, 1, 5]);\n",
        "plt.plot([50,140,200], [1,2,4]);"
      ],
      "metadata": {
        "id": "Y4qp7Tv0AZkJ",
        "cellView": "form"
      },
      "execution_count": null,
      "outputs": []
    },
    {
      "cell_type": "markdown",
      "source": [
        "La fonction plot ne fait que relier des points dans l'ordre que l'on lui donne, il est possible de lui fournir plusieurs points avec la même abscisse, pour tracer une forme.\n",
        "\n",
        "+ Créer les listes x et y suivantes: x = [0, 0, 1, 1, 0, 0.5, 1] , y = [1, 0, 0, 1, 1, 2, 1].\n",
        "+ Relier ces points grâce à la fonction plot, et délimiter les deux axes entre -1 et 2."
      ],
      "metadata": {
        "id": "Jyntz05MAgQo"
      }
    },
    {
      "cell_type": "code",
      "source": [],
      "metadata": {
        "id": "WKeCuXTginX8"
      },
      "execution_count": null,
      "outputs": []
    },
    {
      "cell_type": "code",
      "source": [
        "#@title\n",
        "x = [0, 0, 1, 1, 0, 0.5, 1]\n",
        "y = [1, 0, 0, 1, 1, 2, 1]\n",
        "\n",
        "plt.plot(x,y);\n",
        "plt.axis([-1, 2, -1, 2]);"
      ],
      "metadata": {
        "id": "70CV7iL_Ai6r",
        "cellView": "form"
      },
      "execution_count": null,
      "outputs": []
    },
    {
      "cell_type": "markdown",
      "source": [
        "La fonction plot fonctionne également avec les Series de Pandas. Lorsque l'on travaille avec un DataFrame, on peut donc facilement en extraire les colonnes pour créer des graphiques. Par exemple, plt.plot(mon_df.col1, mon_df.col2). \n",
        "\n",
        "\n"
      ],
      "metadata": {
        "id": "AXBqcZJHApVA"
      }
    },
    {
      "cell_type": "code",
      "source": [
        "df"
      ],
      "metadata": {
        "colab": {
          "base_uri": "https://localhost:8080/",
          "height": 425
        },
        "id": "wc12zxtCAs21",
        "outputId": "abfd88d6-0fbf-4048-a741-b63c311f9b90"
      },
      "execution_count": null,
      "outputs": [
        {
          "output_type": "execute_result",
          "data": {
            "text/plain": [
              "     Month  Product1  Product2  Returns  Turnover\n",
              "0   01-Jan       236       254       11     14902\n",
              "1   02-Feb       269       231        9     21220\n",
              "2   03-Mar       225       264        4     20938\n",
              "3   04-Apr       286       222       14     16718\n",
              "4   05-May       222       115       12     26135\n",
              "5   06-Jun       135       182       19     27706\n",
              "6   07-Jul       168       200       11     28210\n",
              "7   08-Aug       116       108       17     20115\n",
              "8   09-Sep       211       213        0     18403\n",
              "9   10-Oct       235       195        6     22715\n",
              "10  11-Nov       166       131       10     26327\n",
              "11  12-Dec       260       207        3     19166"
            ],
            "text/html": [
              "\n",
              "  <div id=\"df-4a1c69c9-22ae-41a8-a3cc-1c810e8ac51f\">\n",
              "    <div class=\"colab-df-container\">\n",
              "      <div>\n",
              "<style scoped>\n",
              "    .dataframe tbody tr th:only-of-type {\n",
              "        vertical-align: middle;\n",
              "    }\n",
              "\n",
              "    .dataframe tbody tr th {\n",
              "        vertical-align: top;\n",
              "    }\n",
              "\n",
              "    .dataframe thead th {\n",
              "        text-align: right;\n",
              "    }\n",
              "</style>\n",
              "<table border=\"1\" class=\"dataframe\">\n",
              "  <thead>\n",
              "    <tr style=\"text-align: right;\">\n",
              "      <th></th>\n",
              "      <th>Month</th>\n",
              "      <th>Product1</th>\n",
              "      <th>Product2</th>\n",
              "      <th>Returns</th>\n",
              "      <th>Turnover</th>\n",
              "    </tr>\n",
              "  </thead>\n",
              "  <tbody>\n",
              "    <tr>\n",
              "      <th>0</th>\n",
              "      <td>01-Jan</td>\n",
              "      <td>236</td>\n",
              "      <td>254</td>\n",
              "      <td>11</td>\n",
              "      <td>14902</td>\n",
              "    </tr>\n",
              "    <tr>\n",
              "      <th>1</th>\n",
              "      <td>02-Feb</td>\n",
              "      <td>269</td>\n",
              "      <td>231</td>\n",
              "      <td>9</td>\n",
              "      <td>21220</td>\n",
              "    </tr>\n",
              "    <tr>\n",
              "      <th>2</th>\n",
              "      <td>03-Mar</td>\n",
              "      <td>225</td>\n",
              "      <td>264</td>\n",
              "      <td>4</td>\n",
              "      <td>20938</td>\n",
              "    </tr>\n",
              "    <tr>\n",
              "      <th>3</th>\n",
              "      <td>04-Apr</td>\n",
              "      <td>286</td>\n",
              "      <td>222</td>\n",
              "      <td>14</td>\n",
              "      <td>16718</td>\n",
              "    </tr>\n",
              "    <tr>\n",
              "      <th>4</th>\n",
              "      <td>05-May</td>\n",
              "      <td>222</td>\n",
              "      <td>115</td>\n",
              "      <td>12</td>\n",
              "      <td>26135</td>\n",
              "    </tr>\n",
              "    <tr>\n",
              "      <th>5</th>\n",
              "      <td>06-Jun</td>\n",
              "      <td>135</td>\n",
              "      <td>182</td>\n",
              "      <td>19</td>\n",
              "      <td>27706</td>\n",
              "    </tr>\n",
              "    <tr>\n",
              "      <th>6</th>\n",
              "      <td>07-Jul</td>\n",
              "      <td>168</td>\n",
              "      <td>200</td>\n",
              "      <td>11</td>\n",
              "      <td>28210</td>\n",
              "    </tr>\n",
              "    <tr>\n",
              "      <th>7</th>\n",
              "      <td>08-Aug</td>\n",
              "      <td>116</td>\n",
              "      <td>108</td>\n",
              "      <td>17</td>\n",
              "      <td>20115</td>\n",
              "    </tr>\n",
              "    <tr>\n",
              "      <th>8</th>\n",
              "      <td>09-Sep</td>\n",
              "      <td>211</td>\n",
              "      <td>213</td>\n",
              "      <td>0</td>\n",
              "      <td>18403</td>\n",
              "    </tr>\n",
              "    <tr>\n",
              "      <th>9</th>\n",
              "      <td>10-Oct</td>\n",
              "      <td>235</td>\n",
              "      <td>195</td>\n",
              "      <td>6</td>\n",
              "      <td>22715</td>\n",
              "    </tr>\n",
              "    <tr>\n",
              "      <th>10</th>\n",
              "      <td>11-Nov</td>\n",
              "      <td>166</td>\n",
              "      <td>131</td>\n",
              "      <td>10</td>\n",
              "      <td>26327</td>\n",
              "    </tr>\n",
              "    <tr>\n",
              "      <th>11</th>\n",
              "      <td>12-Dec</td>\n",
              "      <td>260</td>\n",
              "      <td>207</td>\n",
              "      <td>3</td>\n",
              "      <td>19166</td>\n",
              "    </tr>\n",
              "  </tbody>\n",
              "</table>\n",
              "</div>\n",
              "      <button class=\"colab-df-convert\" onclick=\"convertToInteractive('df-4a1c69c9-22ae-41a8-a3cc-1c810e8ac51f')\"\n",
              "              title=\"Convert this dataframe to an interactive table.\"\n",
              "              style=\"display:none;\">\n",
              "        \n",
              "  <svg xmlns=\"http://www.w3.org/2000/svg\" height=\"24px\"viewBox=\"0 0 24 24\"\n",
              "       width=\"24px\">\n",
              "    <path d=\"M0 0h24v24H0V0z\" fill=\"none\"/>\n",
              "    <path d=\"M18.56 5.44l.94 2.06.94-2.06 2.06-.94-2.06-.94-.94-2.06-.94 2.06-2.06.94zm-11 1L8.5 8.5l.94-2.06 2.06-.94-2.06-.94L8.5 2.5l-.94 2.06-2.06.94zm10 10l.94 2.06.94-2.06 2.06-.94-2.06-.94-.94-2.06-.94 2.06-2.06.94z\"/><path d=\"M17.41 7.96l-1.37-1.37c-.4-.4-.92-.59-1.43-.59-.52 0-1.04.2-1.43.59L10.3 9.45l-7.72 7.72c-.78.78-.78 2.05 0 2.83L4 21.41c.39.39.9.59 1.41.59.51 0 1.02-.2 1.41-.59l7.78-7.78 2.81-2.81c.8-.78.8-2.07 0-2.86zM5.41 20L4 18.59l7.72-7.72 1.47 1.35L5.41 20z\"/>\n",
              "  </svg>\n",
              "      </button>\n",
              "      \n",
              "  <style>\n",
              "    .colab-df-container {\n",
              "      display:flex;\n",
              "      flex-wrap:wrap;\n",
              "      gap: 12px;\n",
              "    }\n",
              "\n",
              "    .colab-df-convert {\n",
              "      background-color: #E8F0FE;\n",
              "      border: none;\n",
              "      border-radius: 50%;\n",
              "      cursor: pointer;\n",
              "      display: none;\n",
              "      fill: #1967D2;\n",
              "      height: 32px;\n",
              "      padding: 0 0 0 0;\n",
              "      width: 32px;\n",
              "    }\n",
              "\n",
              "    .colab-df-convert:hover {\n",
              "      background-color: #E2EBFA;\n",
              "      box-shadow: 0px 1px 2px rgba(60, 64, 67, 0.3), 0px 1px 3px 1px rgba(60, 64, 67, 0.15);\n",
              "      fill: #174EA6;\n",
              "    }\n",
              "\n",
              "    [theme=dark] .colab-df-convert {\n",
              "      background-color: #3B4455;\n",
              "      fill: #D2E3FC;\n",
              "    }\n",
              "\n",
              "    [theme=dark] .colab-df-convert:hover {\n",
              "      background-color: #434B5C;\n",
              "      box-shadow: 0px 1px 3px 1px rgba(0, 0, 0, 0.15);\n",
              "      filter: drop-shadow(0px 1px 2px rgba(0, 0, 0, 0.3));\n",
              "      fill: #FFFFFF;\n",
              "    }\n",
              "  </style>\n",
              "\n",
              "      <script>\n",
              "        const buttonEl =\n",
              "          document.querySelector('#df-4a1c69c9-22ae-41a8-a3cc-1c810e8ac51f button.colab-df-convert');\n",
              "        buttonEl.style.display =\n",
              "          google.colab.kernel.accessAllowed ? 'block' : 'none';\n",
              "\n",
              "        async function convertToInteractive(key) {\n",
              "          const element = document.querySelector('#df-4a1c69c9-22ae-41a8-a3cc-1c810e8ac51f');\n",
              "          const dataTable =\n",
              "            await google.colab.kernel.invokeFunction('convertToInteractive',\n",
              "                                                     [key], {});\n",
              "          if (!dataTable) return;\n",
              "\n",
              "          const docLinkHtml = 'Like what you see? Visit the ' +\n",
              "            '<a target=\"_blank\" href=https://colab.research.google.com/notebooks/data_table.ipynb>data table notebook</a>'\n",
              "            + ' to learn more about interactive tables.';\n",
              "          element.innerHTML = '';\n",
              "          dataTable['output_type'] = 'display_data';\n",
              "          await google.colab.output.renderOutput(dataTable, element);\n",
              "          const docLink = document.createElement('div');\n",
              "          docLink.innerHTML = docLinkHtml;\n",
              "          element.appendChild(docLink);\n",
              "        }\n",
              "      </script>\n",
              "    </div>\n",
              "  </div>\n",
              "  "
            ]
          },
          "metadata": {},
          "execution_count": 10
        }
      ]
    },
    {
      "cell_type": "markdown",
      "source": [
        "+ Afficher la courbe du nombre de ventes du premier produit ('Product1') en fonction du mois ('Month')."
      ],
      "metadata": {
        "id": "tHn21NzEAvoG"
      }
    },
    {
      "cell_type": "code",
      "source": [],
      "metadata": {
        "id": "u8BHxMGIiorj"
      },
      "execution_count": null,
      "outputs": []
    },
    {
      "cell_type": "code",
      "source": [
        "#@title\n",
        "y = df.Product1\n",
        "x = df.Month\n",
        "\n",
        "plt.plot(x, y)"
      ],
      "metadata": {
        "id": "G533uNm4AxLc",
        "cellView": "form"
      },
      "execution_count": null,
      "outputs": []
    },
    {
      "cell_type": "code",
      "source": [
        "#@title\n",
        "plt.plot(df.Month, df.Product1);"
      ],
      "metadata": {
        "id": "Mc2boyBCA0SP",
        "cellView": "form"
      },
      "execution_count": null,
      "outputs": []
    },
    {
      "cell_type": "markdown",
      "source": [
        "Le graphique obtenu propose un axe des abscisses peu lisible, dû au grand nombre de marques sur l'axe par rapport à la taille de l'image.\n",
        "\n",
        "La librairie pandas contient des méthodes, utilisant Matplotlib en arrière-plan et permettant d'afficher, de manière rapide et optimisé, un graphique à partir des noms de colonnes du dataframe. Elles permettent également d'ajouter directement en argument des paramètres supplémentaires comme un titre, une délimitation des axes ou des légendes.\n",
        "Par exemple : df.plot(x=col1, y=col2, title = \"Mon titre\", ylim = [100,700]) suffit à afficher un graphique complet.\n",
        "\n",
        "+ En utilisant la méthode plot de df, afficher la courbe du nombre de ventes en fonction du mois, avec un titre adéquat."
      ],
      "metadata": {
        "id": "3uITZyVaA4-u"
      }
    },
    {
      "cell_type": "code",
      "source": [],
      "metadata": {
        "id": "2iZ2CSv0iqez"
      },
      "execution_count": null,
      "outputs": []
    },
    {
      "cell_type": "code",
      "source": [
        "#@title\n",
        "df.plot(x = 'Month', y='Product1', title= \"Ventes par mois\");"
      ],
      "metadata": {
        "id": "yF5kxAdnA4YS",
        "cellView": "form"
      },
      "execution_count": null,
      "outputs": []
    },
    {
      "cell_type": "markdown",
      "source": [
        "## Courbes multiples, styles de ligne et légendes"
      ],
      "metadata": {
        "id": "flwllY5YBB69"
      }
    },
    {
      "cell_type": "markdown",
      "source": [
        "Pour superposer plusieurs courbes sur le même graphique, on peut cumuler les instructions plot les unes après les autres, comme ceci :\n",
        "\n",
        ">plt.plot(x,y)\n",
        ">\n",
        ">plt.plot(u,v)\n",
        ">\n",
        ">plt.plot(w,z)\n",
        "\n",
        "ou simplement utiliser la syntaxe suivante:\n",
        "\n",
        "> plt.plot(x,y,u,v,w,z)."
      ],
      "metadata": {
        "id": "pux9K0EkBE2f"
      }
    },
    {
      "cell_type": "markdown",
      "source": [
        "+ Créer une liste appelée t composée de la séquence de 0 à 5, avec un pas de 0.2 , grâce à la fonction np.arange.\n",
        "+ Dans un même graphe, tracer les courbes des fonctions  t  ,  t^2  et  t^3 en délimitant l'axe des ordonnées entre 0 et 50."
      ],
      "metadata": {
        "id": "Aa68OhsZBMvx"
      }
    },
    {
      "cell_type": "markdown",
      "source": [
        "**La commande np.arange(a, b, p) retourne un tableau 1D des nombres compris entre a et b (b exclus), avec un pas de p.**"
      ],
      "metadata": {
        "id": "z3fuyWmuBfN5"
      }
    },
    {
      "cell_type": "code",
      "source": [],
      "metadata": {
        "id": "KhHtfoOLitLb"
      },
      "execution_count": null,
      "outputs": []
    },
    {
      "cell_type": "code",
      "source": [
        "#@title\n",
        "t = np.arange(0, 5, 0.2)\n",
        "\n",
        "plt.plot(t,t,t,t**2,t,t**3)\n",
        "\n",
        "plt.ylim([0,50]);"
      ],
      "metadata": {
        "id": "gDifcdOzBXZf",
        "cellView": "form"
      },
      "execution_count": null,
      "outputs": []
    },
    {
      "cell_type": "markdown",
      "source": [
        "Pour chaque paire (x,y) d'arguments, il y a un troisième argument optionnel qui est une chaîne de caractères qui indique le style et la couleur de la ligne de la courbe. Les styles de courbes possibles sont:\n",
        "\n",
        "'-' : ligne continue\n",
        "\n",
        "'--' : tirets\n",
        "\n",
        "':' : ligne en pointillé\n",
        "\n",
        "'-.' : tirets points\n",
        "\n",
        "L'ensemble des couleurs possibles est:\n",
        "\n",
        "'b' (bleu)\n",
        "\n",
        "'g' (vert) \n",
        "\n",
        "'r' (rouge) \n",
        "\n",
        "'c' (cyan) \n",
        "\n",
        "'m' (magenta) \n",
        "\n",
        "'y' (jaune) \n",
        "\n",
        "'k' (noir) \n",
        "\n",
        "'w' (blanc)`\n",
        "\n",
        "Par exemple, le format par défaut est ‘b-‘, qui est une ligne continue bleue."
      ],
      "metadata": {
        "id": "MQeBEIRXBl6g"
      }
    },
    {
      "cell_type": "markdown",
      "source": [
        "+ Tracer à nouveau les 3 courbes de la question précédente en les affichant respectivement: en pointillés rouge, en ligne continue verte et en tirets bleus."
      ],
      "metadata": {
        "id": "ChJGTIhnBsjq"
      }
    },
    {
      "cell_type": "code",
      "source": [],
      "metadata": {
        "id": "BRzKOOZmivQC"
      },
      "execution_count": null,
      "outputs": []
    },
    {
      "cell_type": "code",
      "source": [
        "#@title\n",
        "\n",
        "t = np.arange(0, 5, 0.2)\n",
        "\n",
        "plt.plot(t,t,':r',t,t**2,'-g',t,t**3,'--b')\n",
        "\n",
        "plt.ylim([0,50]);\n",
        "\n",
        "plt.show()"
      ],
      "metadata": {
        "id": "CRoHi9HPBufL",
        "cellView": "form"
      },
      "execution_count": null,
      "outputs": []
    },
    {
      "cell_type": "markdown",
      "source": [
        "Il est également possible d'ajouter des marqueurs de points à l'aide de symboles, que l'on peut rajouter aux lignes de courbes ou utiliser à la place des lignes . Ces symboles peuvent également être concaténés avec les couleurs présentées ci-dessus.\n",
        "\n",
        "Les symboles possibles sont:\n",
        "\n",
        "'.' : point marker\n",
        "\n",
        "',' : pixel marker\n",
        "\n",
        "'o' : circle marker\n",
        "\n",
        "'v' : triangle_down marker\n",
        "\n",
        "'^' : triangle_up marker\n",
        "\n",
        "'<' : triangle_left marker\n",
        "\n",
        "'>' : triangle_right marker\n",
        "\n",
        "'1' : tri_down marker\n",
        "\n",
        "'2' : tri_up marker\n",
        "\n",
        "'3' : tri_left marker\n",
        "\n",
        "'4' : tri_right marker\n",
        "\n",
        "'s' : square marker\n",
        "\n",
        "'p' : pentagon marker\n",
        "\n",
        "'*' : star marker\n",
        "\n",
        "'h' : hexagon1 marker\n",
        "\n",
        "'H' : hexagon2 marker\n",
        "\n",
        "'+' : plus marker\n",
        "\n",
        "'x' : x marker\n",
        "\n",
        "'D' : diamond marker\n",
        "\n",
        "'d' : thin_diamond marker\n",
        "\n",
        "'|' : vline marker\n",
        "\n",
        "'_' : hline marker"
      ],
      "metadata": {
        "id": "fngVfBGyByOO"
      }
    },
    {
      "cell_type": "markdown",
      "source": [
        "Dans le paramètre style, il est possible de préciser d'un seul coup, dans cet ordre, et dans une seule chaîne de caractère : la couleur, le style de ligne et les marqueurs à utiliser pour une courbe.\n",
        "Par exemple:\n",
        "\n",
        "+ \"r-*\" pour une ligne continue rouge et marqueurs étoiles,\n",
        "+ \"y:d\" pour une ligne en pointillés jaune et marqueurs en diamants, etc..\n",
        "\n",
        "\n",
        "Lorsque l'on trace une ligne, il est également possible de régler sa largeur grâce à l'argument linewidth de plot\n",
        "Ainsi, la commande plt.plot(x , y , \"r--\", linewidth=5, marker= 'o') affiche une ligne en tirets rouge, d'épaisseur 5, avec des marqueurs ronds.\n",
        "\n",
        "+ Tracer à nouveau les 3 courbes de la question précédente en les affichant respectivement: en marqueurs 'hexagone1' jaunes, en ligne verte d'épaisseur 5 et en ligne bleue avec des marqueurs en diamants."
      ],
      "metadata": {
        "id": "hT_X1gUjB6Fk"
      }
    },
    {
      "cell_type": "code",
      "source": [],
      "metadata": {
        "id": "lrff7wcQixt9"
      },
      "execution_count": null,
      "outputs": []
    },
    {
      "cell_type": "code",
      "source": [
        "#@title\n",
        "t = np.arange(0,5,0.2)\n",
        "\n",
        "plt.plot(t,t,'hy')\n",
        "plt.plot(t,t**2,'g-', linewidth=5)\n",
        "plt.plot(t,t**3,'b', marker='D')\n",
        "plt.ylim([0,50])"
      ],
      "metadata": {
        "id": "43jglWowCACB",
        "cellView": "form"
      },
      "execution_count": null,
      "outputs": []
    },
    {
      "cell_type": "markdown",
      "source": [
        "En attribuant des noms aux courbes dans l'argument 'label', à l'intérieur de la commande plot il est facile d'ajouter des légendes aux graphiques, grâce à la méthode legend.\n",
        "La position des légendes peut être choisie, grâce à l'argument loc qui peut être 'best', 'lower right', 'upper center', 'center left' etc...\n",
        "\n",
        "Il est également possible d'ajouter une grille au graphique grâce à la commande plt.grid(True)\n",
        "\n",
        "+ Dans un graphique muni d'une grille, afficher les courbes suivantes:\n",
        "\n",
        "> 1) Les points (50,2), (100,3), (150,7), (200,10) reliés par une ligne bleue d'épaisseur 0.8 et des marqueurs '*' avec le label 'Trajet 1'\n",
        ">\n",
        ">2) Les points (50,2), (100,7), (150,9), (200,10) reliés par une ligne verte d'épaisseur 0.8 et des marqueurs '+' avec le label 'Trajet 2'\n",
        "\n",
        "+ Donner respectivement à l'axe des abscisses et des ordonnées les labels 'Vitesse' et 'Temps'.\n",
        "\n",
        "+ Ajouter les légendes au graphique.\n"
      ],
      "metadata": {
        "id": "vjhI0H9OCFXK"
      }
    },
    {
      "cell_type": "code",
      "source": [],
      "metadata": {
        "id": "SHaEgbZKiz9D"
      },
      "execution_count": null,
      "outputs": []
    },
    {
      "cell_type": "code",
      "source": [
        "#@title\n",
        "plt.grid(True)\n",
        "plt.plot([50,100,150,200], [2,3,7,10], \"b-*\", linewidth=0.8, label=\"Trajet 1\")\n",
        "plt.plot([50,100,150,200], [2,7,9,10], \"g-+\", linewidth=0.8, label=\"Trajet 2\")\n",
        "plt.xlabel('Vitesse')\n",
        "plt.ylabel('Temps')\n",
        "plt.legend();"
      ],
      "metadata": {
        "id": "32Vc7R9kCNIY",
        "cellView": "form"
      },
      "execution_count": null,
      "outputs": []
    },
    {
      "cell_type": "markdown",
      "source": [
        "En utilisant les méthodes intégrés des DataFrames Pandas on peut également rajouter du style au graphique en utilisant les mêmes noms de paramètres. Il est également possible d'afficher plusieurs courbes dans le même graphique, en insérant une liste dans le paramètre y.\n",
        "Le paramètre style peut aussi recevoir une liste, afin d'associer à chaque courbe son prope style.\n",
        "\n",
        "Exemple : mon_df.plot(x= col1, y = [col2,col3], style = [\"r--\", \"c-+\"])\n",
        "\n",
        "+ prendre le précédent df\n",
        "\n",
        "+ Dans un graphique, afficher les courbes relatives aux colonnes 'Product1' et 'Product2', en fonction de 'Month', ajouter un style différent pour chacune des courbes, ainsi que le titre \"Ventes par mois\"."
      ],
      "metadata": {
        "id": "qETBjTc8CQ3i"
      }
    },
    {
      "cell_type": "code",
      "source": [],
      "metadata": {
        "id": "2V01PgpHi2In"
      },
      "execution_count": null,
      "outputs": []
    },
    {
      "cell_type": "code",
      "source": [
        "#@title\n",
        "df.plot(x = 'Month', y = ['Product1','Product2'], style = [\"m--\", \"c:.\"], title = \"Ventes par mois\");"
      ],
      "metadata": {
        "id": "NpbN5FJzCpqn",
        "cellView": "form"
      },
      "execution_count": null,
      "outputs": []
    },
    {
      "cell_type": "markdown",
      "source": [
        "## Graphiques en barres (Barplots)"
      ],
      "metadata": {
        "id": "qk9zw8NuC5oN"
      }
    },
    {
      "cell_type": "markdown",
      "source": [
        "Comme toutes les fonctions de pyplot il existe beaucoup d'autres paramètres comme :\n",
        "\n",
        "+ edgecolor : la couleur des encadrements.\n",
        "+ linewidth : l'épaisseur des traits.\n",
        "+ yerr : les valeurs des barres d'erreur.\n",
        "+ ecolor : la couleur des barres d'erreur.\n",
        "+ align: l'axe des abscisses correspond au centre de la barre , ou au bord gauche.\n",
        "+ orientation : 'horizontal' pour afficher un barplot horizontal.\n",
        "+ hatch = '/' : les hachures. Valeurs possibles : '/', '\\', '|', '-', '+', 'x', 'o', 'O', '.', '*'."
      ],
      "metadata": {
        "id": "3_A60GTZDAGR"
      }
    },
    {
      "cell_type": "markdown",
      "source": [
        "+ Créer un bar plot avec les abscisses de 0 à 6 et les hauteurs [3,4,5,6,5,4,3], d'épaisseur 0.6 et de couleur bleue."
      ],
      "metadata": {
        "id": "QbHlDTi4DEQA"
      }
    },
    {
      "cell_type": "code",
      "source": [],
      "metadata": {
        "id": "O78yLnT2i4Ad"
      },
      "execution_count": null,
      "outputs": []
    },
    {
      "cell_type": "code",
      "source": [
        "#@title\n",
        "plt.bar(range(7), [3,4,5,6,5,4,3], width=0.6);"
      ],
      "metadata": {
        "id": "_oltmW7rC5A0",
        "cellView": "form"
      },
      "execution_count": null,
      "outputs": []
    },
    {
      "cell_type": "markdown",
      "source": [
        "+ depuis DF Afficher le nombre de produits de type 1 vendus par mois, sous forme de barplot."
      ],
      "metadata": {
        "id": "SNlNewAvDI1F"
      }
    },
    {
      "cell_type": "code",
      "source": [],
      "metadata": {
        "id": "cFqCnF4Oi4s5"
      },
      "execution_count": null,
      "outputs": []
    },
    {
      "cell_type": "code",
      "source": [
        "#@title\n",
        "plt.bar(range(len(df)), df.Product1);"
      ],
      "metadata": {
        "id": "VZnyzt-eDP0d",
        "cellView": "form"
      },
      "execution_count": null,
      "outputs": []
    },
    {
      "cell_type": "markdown",
      "source": [
        "Il est possible d'afficher plusieurs diagrammes sur le même graphique, en faisant appel à autant de commandes plt.bar les unes à la suite des autres.\n",
        "\n",
        "Comme pour la méthode plot, il est possible de donner un label à un barplot en le précisant en argument, pour pourvoir afficher les légendes.\n",
        "\n",
        "+ Créer un graphique affichant deux bar plots, un bleu et un vert, labellisés \"Exemple 1\" et \"Exemples 2\" avec pour arguments respectifs les listes [1,3,5,7,9],[5,2,7,8,2] et [2,4,6,8,10],[8,6,2,5,6] .\n",
        "+ Donner à l'axe des abscisses le label 'Numéro', et à l'axe des ordonnées le label 'Hauteur'.\n",
        "+ Afficher les légendes et donner au graphique le titre 'Mon graphique en barres'."
      ],
      "metadata": {
        "id": "hy9UrZT2DTby"
      }
    },
    {
      "cell_type": "code",
      "source": [],
      "metadata": {
        "id": "I80Aq-wzi7iJ"
      },
      "execution_count": null,
      "outputs": []
    },
    {
      "cell_type": "code",
      "source": [
        "#@title\n",
        "plt.bar([1,3,5,7,9],[5,2,7,8,2], color = \"b\", label=\"Exemple 1\")\n",
        "plt.bar([2,3,6,8,10],[8,6,2,5,6], color = \"g\", label=\"Exemple 2\")\n",
        "plt.xlabel('Numero')\n",
        "plt.ylabel('Hauteur')\n",
        "plt.legend()  \n",
        "\n",
        "plt.title('Mon graphique en barres');"
      ],
      "metadata": {
        "id": "AfMqC4pHDWun",
        "cellView": "form"
      },
      "execution_count": null,
      "outputs": []
    },
    {
      "cell_type": "markdown",
      "source": [
        "Il est également possible de créer un bar plot à partir de 2 séries de valeurs, superposées l'une sur l'autre, en rajoutant le paramètre bottom au deuxième appel plt.bar().\n",
        "\n",
        "Exemple:\n",
        "\n",
        "`plt.bar(x , y1); plt.bar(x, y2, bottom = y1)`\n",
        "\n",
        "superpose la série y2 sur y1.\n",
        "\n",
        "+ Afficher l'un au dessus de l'autre, le nombre de produits de type 1 et le nombre de produits de type 2 vendus par mois.\n",
        "+ Ajouter les légendes."
      ],
      "metadata": {
        "id": "Bz9sR2VtDa6t"
      }
    },
    {
      "cell_type": "code",
      "source": [],
      "metadata": {
        "id": "nHhNr-Loi9Ok"
      },
      "execution_count": null,
      "outputs": []
    },
    {
      "cell_type": "code",
      "source": [
        "#@title\n",
        "plt.bar(range(len(df)), df.Product1, label = \"Produit1\")\n",
        "plt.bar(range(len(df)), df.Product2, bottom = df.Product1, label = \"Produit2\")\n",
        "plt.legend();"
      ],
      "metadata": {
        "id": "NI7a_oi2Df6r",
        "cellView": "form"
      },
      "execution_count": null,
      "outputs": []
    },
    {
      "cell_type": "markdown",
      "source": [
        "Si l'on préfère obtenir un graphique avec des barres côte à côte et non empilées, il suffit de jouer avec les abscisses des barres et leur épaisseur.\n",
        "\n",
        "Il est également possible, avec tout graphique, de modifier les graduations des axes grâce aux méthodes xticks et yticks.\n",
        "\n",
        "Exemple :\n",
        "\n",
        "La commande\n",
        "\n",
        "`plt.xticks([1,2,3], ['un', 'deux', 'trois'])`\n",
        "\n",
        "remplace les graduations de l'axe des abscisses par les trois graduations 'un', 'deux', 'trois'.\n",
        "\n",
        "+ Créer une variable appelée barWidth qui vaut 0.4\n",
        "+ Créer une séquence x1 des chiffres de 0 à 11\n",
        "+ Créer une liste x2 dont les éléments sont les éléments de x1 additionnés de barWidth\n",
        "+ Créer dans la même figure, 2 bar plots, d'abscisses respectives x1 et x2 et d'épaisseur barWidth , et affichant le nombre de produits de type 1 et 2 vendus sur les 12 premiers mois.\n",
        "+ Afficher sur l'axe des abscisses uniquement les mois suivants : 'Janvier', 'Mars', 'Mai', 'Juillet', 'Septembre', 'Decembre'."
      ],
      "metadata": {
        "id": "BZa70aVqDlj4"
      }
    },
    {
      "cell_type": "code",
      "source": [],
      "metadata": {
        "id": "StK_vsv1i_R0"
      },
      "execution_count": null,
      "outputs": []
    },
    {
      "cell_type": "code",
      "source": [
        "#@title\n",
        "#Créer une variable appelée barWidth qui vaut 0.4\n",
        "barWidth = 0.4\n",
        "\n",
        "#Créer une séquence x1 des chiffres de 0 à 11\n",
        "x1 = range(12)\n",
        "\n",
        "#Créer une liste x2 dont les éléments sont les éléments de x1 additionnés de barWidth\n",
        "x2 = [r + barWidth for r in x1 ]\n",
        "\n",
        "df12 = df.head(12)\n",
        "\n",
        "plt.bar(x1, df12.Product1, width = barWidth, label = \"Produit1\")\n",
        "plt.bar(x2, df12.Product2, width = barWidth, label = \"Produit2\")\n",
        "\n",
        "plt.xticks([0,2,4,6,8,11], ['Janvier', 'Mars', 'Mai', 'Juillet', 'Septembre', 'Decembre']);"
      ],
      "metadata": {
        "id": "ZvTiX43QDvWS",
        "cellView": "form"
      },
      "execution_count": null,
      "outputs": []
    },
    {
      "cell_type": "markdown",
      "source": [
        "Par défaut, les barres sont affichées côte à côtes, mais il est possible d'utiliser l'argument stacked = True, pour les empiler. Il faut noter que cette méthode, bien que très efficace, permet moins de personnalisation dans les détails et le choix des paramètres, elle est donc conseillée pour la production de graphiques rapides et simples.\n",
        "\n",
        "Voici un exemple de son utilisation:"
      ],
      "metadata": {
        "id": "IxQlum_VD1Q8"
      }
    },
    {
      "cell_type": "code",
      "source": [],
      "metadata": {
        "id": "VqgAHHk_jAN1"
      },
      "execution_count": null,
      "outputs": []
    },
    {
      "cell_type": "code",
      "source": [
        "#@title\n",
        "df.head(6).plot.bar(x = 'Month', y=['Product1', 'Product2', 'Returns'],stacked=True,\n",
        "                     rot=0)\n",
        "plt.xticks(range(6), [\"Janvier\",\"Février\",\"Mars\",\"Avril\",\"Mai\",\"Juin\"])\n",
        "plt.legend();"
      ],
      "metadata": {
        "id": "s6toxVhVD3g1",
        "cellView": "form"
      },
      "execution_count": null,
      "outputs": []
    },
    {
      "cell_type": "markdown",
      "source": [
        "## Nuages de points (Scatter plots)"
      ],
      "metadata": {
        "id": "VMx-a9JlD9AN"
      }
    },
    {
      "cell_type": "markdown",
      "source": [
        "La fonction scatter permet de tracer des nuages de points. Elle s'utilise d'une manière similaire à plot.\n",
        "\n",
        "l est possible également de tracer deux nuages de points simultanément sur le même graphique en faisant deux fois appel à la commande plt.scatter l'une après l'autre.\n",
        "Les paramètres c (pour la couleur) et s (pour la taille) peuvent être :\n",
        "\n",
        "+ Soit des éléments uniques (c = 'red')\n",
        "+ Soit des listes de la même taille que le nombre de points (c = ['red', 'green', 'blue'] si 3 points par exemple).\n",
        "\n",
        "\n",
        "La liste de couleurs disponibles sur Matplotlib pourrait sembler restreinte pour certains, il est possible d'utiliser des codes couleurs [HEX](https://www.color-hex.com/) pour colorer tout type de graphique."
      ],
      "metadata": {
        "id": "AIU1iIBvECNP"
      }
    },
    {
      "cell_type": "markdown",
      "source": [
        "+ Créer la listes x des abscisses de 1 à 5, puis les listes y1 et y2 suivantes: [0,2, 3, 8, 15], [5, 8, 11, 16, 22].\n",
        "+ Représenter les points de coordonnées x* et y1 en jaune et de tailles croissantes: 30, 60, 90, 120, 150.\n",
        "+ Représenter les points de coordonnées x et y2, de taille 40 et de couleurs: [#d248a2', '#8b48d2', '#48a5d2', '#4dd248', '#d1d248']."
      ],
      "metadata": {
        "id": "1zJnIQtZENfI"
      }
    },
    {
      "cell_type": "code",
      "source": [],
      "metadata": {
        "id": "XP5ZrC6QjCH8"
      },
      "execution_count": null,
      "outputs": []
    },
    {
      "cell_type": "code",
      "source": [
        "#@title\n",
        "\n",
        "x = [1, 2, 3, 4, 5]\n",
        "y1 = [0,2, 3, 8, 15]\n",
        "y2 = [5, 8, 11, 16, 22]\n",
        "plt.scatter(x, y1, c = 'yellow', s = [30, 60, 90, 120, 150])\n",
        "plt.scatter(x, y2, c =['#d248a2', '#8b48d2', '#48a5d2', '#4dd248', '#ed6d63'], s=40);"
      ],
      "metadata": {
        "id": "LPHHS0kND-Fd",
        "cellView": "form"
      },
      "execution_count": null,
      "outputs": []
    },
    {
      "cell_type": "markdown",
      "source": [
        "Lorsque l'on travaille avec des dataframes, le paramètre c permet de colorer les points par rapport aux valeurs prises par les points dans une colonne, en insérant cette colonne en argument au paramètre c.\n",
        "\n",
        "+ depuis df : Afficher un nuage de points d'abscisses df.Product1 et d'ordonnées df.Product2, de taille 30, et en colorant les points par rapport à df.Returns."
      ],
      "metadata": {
        "id": "0JJoLuQJEStT"
      }
    },
    {
      "cell_type": "code",
      "source": [],
      "metadata": {
        "id": "t6syChNwbwd8"
      },
      "execution_count": null,
      "outputs": []
    },
    {
      "cell_type": "code",
      "source": [
        "#@title\n",
        "# L'ajout de cmap permet de choisir une palette de couleurs, parmi toutes celles disponibles.\n",
        "df.plot.scatter(x='Product1', y='Product2', c = 'Returns', s=30, cmap = 'viridis');\n",
        "\n"
      ],
      "metadata": {
        "id": "BE3i8zcYEXJo",
        "cellView": "form"
      },
      "execution_count": null,
      "outputs": []
    },
    {
      "cell_type": "markdown",
      "source": [
        "## Histogrammes"
      ],
      "metadata": {
        "id": "QnBsHdQhFEy2"
      }
    },
    {
      "cell_type": "markdown",
      "source": [
        "La fonction plt.hist permet d'afficher des histogrammes. Elle prend principalement en arguments:\n",
        "\n",
        "+ une série de valeurs (x) ,\n",
        "+ les bornes des valeurs à utiliser (range: par défaut (min(x), max(x)) )\n",
        "+ le nombre d'intervalles (bins) ou les limites explicites des intervalles.\n",
        "\n",
        "\n",
        "Dans le cas où le nombre d'intervalles est le seul élément renseigné, ceux-ci seront de tailles égales, mais des intervalles de tailles différentes sont possibles lorsqu'ils sont renseignés explicitement.\n",
        "\n",
        "Par défaut les intervalles sont ouverts à droite, et fermés à gauche."
      ],
      "metadata": {
        "id": "YtyUet72Tt_u"
      }
    },
    {
      "cell_type": "markdown",
      "source": [
        "Pour des histogrammes plus lisibles, le paramètre rwidth permet de réduire la largeur des barres avec un espace entre elles (pourcentage entre 0 et 1).\n",
        "\n",
        "+ Créer un histogramme à partir de 40 nombres choisis au hasard entre 0 et 10, grâce à la fonction np.random.choice, composé de 7 intervalles, d'épaisseur 0.8, et de couleur orange."
      ],
      "metadata": {
        "id": "FcoWCWFcT0vB"
      }
    },
    {
      "cell_type": "code",
      "source": [],
      "metadata": {
        "id": "Pv1TmYCLT55a"
      },
      "execution_count": null,
      "outputs": []
    },
    {
      "cell_type": "code",
      "source": [
        "#@title\n",
        "x = np.random.choice(10, 40)\n",
        "\n",
        "plt.hist(x,  bins=7, color='orange', rwidth=0.8)\n",
        "\n",
        "print(x)"
      ],
      "metadata": {
        "cellView": "form",
        "id": "Nr5snlURTj2m"
      },
      "execution_count": null,
      "outputs": []
    },
    {
      "cell_type": "markdown",
      "source": [
        "Il est possible d'afficher les fréquences plutôt que les nombres en ordonnées en ajoutant l'argument density = True.\n",
        "\n",
        "\n",
        "L'ajout de orientation = 'horizontal' permet de tracer un histogramme horizontal.\n",
        "\n",
        "+ Afficher un histogramme horizontal à partir de la série de valeurs x : [1, 2, 2, 3, 4, 4, 4, 4, 4, 5, 5], avec les nombres entre 1 et 5, 5 intervalles, des barres réduite de0.6, de couleur rose (code '#EE3459') et en remplaçant les nombres d'occurences par les fréquences correspondantes.\n",
        "+ Donner à l'axe des abscisses le label 'fréquences', à l'axe des ordonnées le label 'valeurs', et au graphique le titre 'Histogramme horizontal'."
      ],
      "metadata": {
        "id": "LEz6_0x6UDBq"
      }
    },
    {
      "cell_type": "code",
      "source": [],
      "metadata": {
        "id": "iMdWKT0DUCWl"
      },
      "execution_count": null,
      "outputs": []
    },
    {
      "cell_type": "code",
      "source": [
        "#@title\n",
        "x = [1, 2, 2, 3, 4, 4, 4, 4, 4, 5, 5]\n",
        "plt.hist(x, range = (1, 6), bins = 5, color = '#EE3459',\n",
        "            density = True,\n",
        "            orientation = 'horizontal', rwidth = 0.6)\n",
        "plt.ylabel('valeurs')\n",
        "plt.xlabel('frequences')\n",
        "plt.title('Histogramme horizontal')"
      ],
      "metadata": {
        "cellView": "form",
        "id": "BzNTeSvDUHlq"
      },
      "execution_count": null,
      "outputs": []
    },
    {
      "cell_type": "markdown",
      "source": [
        "Comme pour les bar plots il est possible d'afficher plusieurs histogrammes sur le même graphique, côte à côte ou superposés, en passant comme argument une liste des séries de valeurs. Pour un histogramme avec les séries de valeurs superposées il suffit de rajouter en paramètre histtype = 'barstacked'.\n",
        "\n",
        "\n",
        "+ Créer un histogramme à partir de df.Product1 et df.Product2, contenant 6 intervalles, et dont les barres sont de couleurs '#f27750' et '#f7bf59'.\n",
        "\n",
        "+ Ajouter les labels correspondants à chaque série. Donner au graphique le titre 'Histogramme 2 series', à l'axe des abscisses le label 'Ventes' et à l'axe des ordonnées le label 'Fréquences'.\n",
        "\n",
        "+ Afficher les légendes sur le graphique."
      ],
      "metadata": {
        "id": "mRAxlmPwUQlR"
      }
    },
    {
      "cell_type": "code",
      "source": [],
      "metadata": {
        "id": "DYeA0rC2UZZR"
      },
      "execution_count": null,
      "outputs": []
    },
    {
      "cell_type": "code",
      "source": [
        "#@title\n",
        "plt.hist([df.Product1, df.Product2], bins = 6, color = ['#f27750', '#f7bf59'],\n",
        "         label = ['Product1', 'Product2'])\n",
        "plt.ylabel('valeurs')\n",
        "plt.xlabel('nombres')\n",
        "plt.title('Histogrammme 2 series')\n",
        "plt.legend()"
      ],
      "metadata": {
        "cellView": "form",
        "id": "lKTpzHASUWGL"
      },
      "execution_count": null,
      "outputs": []
    },
    {
      "cell_type": "markdown",
      "source": [
        "+ Créer un histogramme des séries de valeurs df.Product1, df.Product2 superposés, dont les barres sont de couleurs '#961939', '#193996', avec les labels correspondants, et séparés grâce à rwidth = 0.8.\n",
        "+ Donner au graphique le titre '2 series superposées', à l'axe des abscisses le label 'Ventes' et à l'axe des ordonnées le label 'Frequences'.\n",
        "\n",
        "+ Afficher les légendes sur le graphique."
      ],
      "metadata": {
        "id": "2CXXyK4eUdES"
      }
    },
    {
      "cell_type": "code",
      "source": [],
      "metadata": {
        "id": "botncf7EUka3"
      },
      "execution_count": null,
      "outputs": []
    },
    {
      "cell_type": "code",
      "source": [
        "#@title\n",
        "plt.hist([df.Product1, df.Product2], bins = [100,200,280,325,450,600,800], color = ['#0086ad', '#97ebdb'],\n",
        "         label = ['Product1', 'Product2'],  histtype = 'barstacked', rwidth = 0.8 )\n",
        "plt.xlabel('Ventes')\n",
        "plt.ylabel('Frequences')\n",
        "plt.title('2 séries superposées')\n",
        "plt.legend();"
      ],
      "metadata": {
        "cellView": "form",
        "id": "T0K0cz93UlEU"
      },
      "execution_count": null,
      "outputs": []
    },
    {
      "cell_type": "markdown",
      "source": [
        "La méthode plot.hist() de Pandas, permet d'afficher un histogramme directement depuis un DataFrame. Lorsque plus de deux séries de valeurs sont présentes dans le DataFrame, ou précisées en arguments, les histogrammes sont affichés ensemble au sein du même graphique.\n",
        "\n",
        "Pour les séparer, il suffit d'ajouter l'argument subplots=True, et de régler la disposition des cellules grâce au paramètre layout.\n",
        "\n",
        "Une seconde méthode, hist() permet également d'afficher des histogrammes, mais crée automatiquement un histogramme par colonne, et ne permet pas par exemple différentes couleurs par histogramme.\n",
        "\n",
        "Voici quelques exemples d'utilisation :"
      ],
      "metadata": {
        "id": "koaipJ_WUvRZ"
      }
    },
    {
      "cell_type": "code",
      "source": [
        "df.plot.hist(y=['Product1', 'Product2'], bins = 7, rwidth = 0.8 , color= ['#0c4c83', '#830c4c'], alpha=0.5);\n",
        "df.plot.hist(y=['Product1', 'Product2'], bins = 7, subplots=True, rwidth = 0.8 , color= ['#0c4c83', '#830c4c'], alpha=0.5);\n",
        "df.hist(column=['Product1', 'Product2'], bins = 7, rwidth = 0.8 , color= ['#0c4c83']);"
      ],
      "metadata": {
        "colab": {
          "base_uri": "https://localhost:8080/",
          "height": 1000
        },
        "id": "IaBDwJdzUyku",
        "outputId": "39521b1b-0174-4923-ea9f-9e63db7a6cff"
      },
      "execution_count": null,
      "outputs": [
        {
          "output_type": "display_data",
          "data": {
            "text/plain": [
              "<Figure size 640x480 with 1 Axes>"
            ],
            "image/png": "[encoded data removed]"
          },
          "metadata": {}
        },
        {
          "output_type": "display_data",
          "data": {
            "text/plain": [
              "<Figure size 640x480 with 2 Axes>"
            ],
            "image/png": "[encoded data removed]"
          },
          "metadata": {}
        },
        {
          "output_type": "display_data",
          "data": {
            "text/plain": [
              "<Figure size 640x480 with 2 Axes>"
            ],
            "image/png": "[encoded data removed]"
          },
          "metadata": {}
        }
      ]
    },
    {
      "cell_type": "markdown",
      "source": [
        "## Boîtes à Moustaches (Box Plots) et Camemberts (Pie Plots)"
      ],
      "metadata": {
        "id": "9K4PFRBuVWPD"
      }
    },
    {
      "cell_type": "markdown",
      "source": [
        "### Boxplot (boîte à moustache)"
      ],
      "metadata": {
        "id": "8Bcr_k7DWAJR"
      }
    },
    {
      "cell_type": "markdown",
      "source": [
        "Les boîtes à moustaches (ou boxplots) sont des graphiques très appréciés et utilisés, notamment lors d'analyses descriptives de données continues.\n",
        "\n",
        "La fonction plt.boxplot permet d'afficher des boites à moustaches sur un graphique.\n",
        "\n",
        "Elle prend en argument une ou plusieurs séquences de valeurs réunies dans une autre séquence.\n",
        "\n",
        "La boîte principale donne les limites du premier et dernier quartile, la barre rouge du milieu indique la médiane.\n",
        "\n",
        "Les moustaches vont jusqu'à la valeur la plus extrême dans la limite de 1.5 fois la hauteur de la boîte. Les points au-delà des moustaches sont représentés par des +, ce sont des outliers."
      ],
      "metadata": {
        "id": "X18_eW-2WCb5"
      }
    },
    {
      "cell_type": "markdown",
      "source": [
        "+ depuis df\n",
        "+ Afficher les boîtes à moustaches créées à partir des séries représentant le nombre de ventes du Produit 1 et du Produit 2.\n",
        "+ Donner un titre au graphique."
      ],
      "metadata": {
        "id": "8TEjh_spWIq8"
      }
    },
    {
      "cell_type": "code",
      "source": [],
      "metadata": {
        "id": "P-gNC2uoV_cB"
      },
      "execution_count": null,
      "outputs": []
    },
    {
      "cell_type": "code",
      "source": [
        "#@title\n",
        "plt.boxplot([df.Product1, df.Product2])\n",
        "\n",
        "plt.title('moustache');"
      ],
      "metadata": {
        "cellView": "form",
        "id": "Ui6l1MAjVZ4N"
      },
      "execution_count": null,
      "outputs": []
    },
    {
      "cell_type": "markdown",
      "source": [
        "En statistiques descriptives, il est souvent nécessaire de créer des boxplots plus élaborés, dépendant par exemple d'une variable qualitative.\n",
        "\n",
        "+ Créer une nouvelle variable 'Mois', qui garde uniquement le mois de la colonne 'Month'. Il faudra donc extraire pour chaque élément de 'Month', du 4ème au dernier caractère de la chaîne.\n",
        "\n",
        "+ Créer une liste vierge l.\n",
        "\n",
        "+ Grâce à une boucle sur l'ensemble des mois de l'année, ajouter successivement à l les Series contenant le chiffre d'affaire ('Turnover') extraits pour chacun des 12 mois.\n",
        "\n",
        "+ Afficher le boxplot des séries contenues dans l.\n",
        "\n",
        "+ Ajouter les mois en graduation de l'axe des abscisses."
      ],
      "metadata": {
        "id": "1fWKh-tSWWPv"
      }
    },
    {
      "cell_type": "code",
      "source": [],
      "metadata": {
        "id": "G8gus7zhWdoc"
      },
      "execution_count": null,
      "outputs": []
    },
    {
      "cell_type": "code",
      "source": [
        "#@title\n",
        "df['Mois']= df.Month.apply(lambda x : x[3:])\n",
        "\n",
        "l=list()\n",
        "for i in df.Mois.unique():\n",
        "    l.append(df[df['Mois'] == i]['Turnover'])\n",
        "plt.boxplot(l)\n",
        "plt.xticks(range(1,13),df.Mois.unique());"
      ],
      "metadata": {
        "cellView": "form",
        "id": "HftLVkZWWe8w"
      },
      "execution_count": null,
      "outputs": []
    },
    {
      "cell_type": "markdown",
      "source": [
        "La méthode boxplot() des DataFrames Pandas, permet d'afficher des boîtes à moustaches pour chaque colonne indiquée dans le paramètre column, pour toutes les colonnes sinon. Le paramètre by est le plus intéressant, il permet d'afficher une boîte à moustache pour chaque modalité d'une variable qualitative.\n",
        "\n",
        "Bon à savoir : Le paramètre figsize permet de modifier les dimensions de la figure contenant le graphique.\n",
        "\n",
        "+ A l'aide de la méthode boxplot() , recréer facilement le graphique précédent dans une figure de taille (7,7)."
      ],
      "metadata": {
        "id": "poT0cFGRWtnw"
      }
    },
    {
      "cell_type": "code",
      "source": [],
      "metadata": {
        "id": "HCITI1gFWyba"
      },
      "execution_count": null,
      "outputs": []
    },
    {
      "cell_type": "code",
      "source": [
        "#@title\n",
        "df.boxplot(column= 'Turnover', by='Mois', figsize= (7,7));\n"
      ],
      "metadata": {
        "cellView": "form",
        "id": "UWCkwoNLWzP9"
      },
      "execution_count": null,
      "outputs": []
    },
    {
      "cell_type": "markdown",
      "source": [
        "### Camembert (Pie Charts)"
      ],
      "metadata": {
        "id": "8AZcsX0ZXTN5"
      }
    },
    {
      "cell_type": "markdown",
      "source": [
        "Les camemberts sont des diagrammes circulaires divisés par secteurs (wedges). C'est une manière efficace de représenter l'information lorsque l'on s'intéresse principalement à la comparaison d'un secteur avec le camembert tout entier plutôt qu'entre deux secteurs.\n",
        "\n",
        "La fonction pie permet de tracer des diagrammes circulaires à partir d'une séquence X.\n",
        "\n",
        "Chaque élément  xi de X est représenté par une part proportionnelle à  xi /sum(X).\n",
        "\n",
        " Si la somme des éléments de X est inférieure à 1, le camembert est représenté à l'aide des valeurs de X directement, aucune normalisation n'est effectuée, ce qui laisse un espace vide."
      ],
      "metadata": {
        "id": "aiA1kYhYXW3n"
      }
    },
    {
      "cell_type": "markdown",
      "source": [
        "**Les diagrammes circulaires s'affichent mieux si la figure présente un format agrandi et carré.\n",
        "Lorsque l'on utilise une fonction de pyplot, une figure se crée automatiquement, au format standard par défaut.\n",
        "La figure peut être crée aux dimensions (h,l) grâce à la commande plt.figure( figsize= (h, l) ).**\n",
        "\n",
        " Rajouter à plt.pie l'argument labels permet de donner des noms aux différentes part du camembert."
      ],
      "metadata": {
        "id": "XdZUjEYfXixE"
      }
    },
    {
      "cell_type": "markdown",
      "source": [
        "+ Créer une figure aux dimensions (6, 6).\n",
        "+ Créer une liste x comprenant les nombres [1, 2, 3, 4, 10].\n",
        "+ Afficher un diagramme circulaire à partir de x, et lui donner les labels ['A', 'B', 'C', 'D', 'E'].\n",
        "+ Afficher les légendes sur le graphique."
      ],
      "metadata": {
        "id": "cLymv4EsXrYV"
      }
    },
    {
      "cell_type": "code",
      "source": [],
      "metadata": {
        "id": "Yw9Do_QxXpE2"
      },
      "execution_count": null,
      "outputs": []
    },
    {
      "cell_type": "code",
      "source": [
        "#@title\n",
        "plt.figure(figsize= (6, 6))\n",
        "\n",
        "x = [1, 2, 3, 4, 10]\n",
        "\n",
        "plt.pie(x, labels =  ['A', 'B', 'C', 'D', 'E']);\n",
        "plt.legend();"
      ],
      "metadata": {
        "id": "YxWI22hnXp4r",
        "cellView": "form"
      },
      "execution_count": null,
      "outputs": []
    },
    {
      "cell_type": "markdown",
      "source": [
        "De nombreux paramètre permettent de customiser son camembert.\n",
        "\n",
        ">+ explode: liste de la même taille que la séquence de données, permet d'éloigner une ou plusieurs part du centre en indiquant de quelle fraction de rayon chaque part doit être éloignée (0 par défaut).\n",
        ">\n",
        ">+ colors: séquence de couleurs à utiliser pour les parts.\n",
        "labeldistance : la distance des labels au centre (> 1 pour être à l'extérieur du cercle).\n",
        ">\n",
        ">+ autopct : une fonction (lambda) qui prend le pourcentage calculé pour une part et renvoie ce qui doit être affiché pour ce pourcentage.\n",
        ">\n",
        ">+ pctdistance : la distance au centre à laquelle le pourcentage précédent doit être affiché (1 = sur le cercle).\n",
        ">\n",
        "> + shadow = True : indique qu'il faut afficher une ombre.\n",
        "\n",
        "\n",
        "+ Créer une figure de taille (7, 7).\n",
        "+ Afficher un diagramme circulaire à partir du chiffre d'affaire des 6 premiers mois de la période, avec les labels de 'Janv' à 'Juin' et les couleurs : rouge, orange, jaune, vert, bleu, violet.\n",
        "+ Éloigner la quatrième part du centre de 0.2.\n",
        "Afficher le pourcentage de chaque part, arrondi à 2 chiffres après la virgule , suivi du signe '%'.\n",
        "+ Afficher ces pourcentages à une distance de 0.7 du centre, et les labels à une distance de 1.2.\n",
        "+ Rajouter des ombres au camembert.\n",
        "+ Afficher les légendes sur le graphique."
      ],
      "metadata": {
        "id": "OaCYgTIQXzMY"
      }
    },
    {
      "cell_type": "code",
      "source": [],
      "metadata": {
        "id": "4U__sRBMYLZb"
      },
      "execution_count": null,
      "outputs": []
    },
    {
      "cell_type": "code",
      "source": [
        "#@title\n",
        "\n",
        "plt.figure(figsize = (7, 7))\n",
        "\n",
        "plt.pie(x = df.head(6).Turnover, labels = ['Janv', 'Fev', 'Mars', 'Avril', 'Mai', 'Juin'], #diagramme circulaire à partir du chiffre d'affaire des 6 premiers mois de la période\n",
        "           colors = ['red', 'orange', 'yellow', 'green', 'blue', 'purple'], # rouge, orange, jaune, vert, bleu, violet.\n",
        "           explode = [0, 0, 0, 0.2, 0, 0], #Éloigner la quatrième part du centre de 0.2.\n",
        "           autopct = lambda x: str(round(x, 2)) + '%', #Afficher le pourcentage de chaque part, arrondi à 2 chiffres après la virgule , suivi du signe '%'.\n",
        "           pctdistance = 0.7, labeldistance = 1.2, #Afficher ces pourcentages à une distance de 0.7 du centre, et les labels à une distance de 1.2\n",
        "           shadow = True) #Rajouter des ombres au camembert.\n",
        "plt.legend();"
      ],
      "metadata": {
        "cellView": "form",
        "id": "erAG8v9DYNax"
      },
      "execution_count": null,
      "outputs": []
    },
    {
      "cell_type": "markdown",
      "source": [
        "## Subplots et Graphiques emboîtés"
      ],
      "metadata": {
        "id": "uO20yv1TYaVN"
      }
    },
    {
      "cell_type": "markdown",
      "source": [
        "Sur une même figure Matplotlib, il est possible d'afficher plusieurs graphiques en grille; grâce à la fonction subplot qui crée une figure automatiquement et la divise autant qu'on le souhaite.\n",
        "\n",
        "La fonction subplot prend en arguments: le nombre de lignes de la figure (numrows) , le nombre de colonnes (numcols) et le numéro du graphique sur lequel on souhaite se positionner (compris entre 1 et numrows x numcols) .\n",
        "\n",
        "Les virgules sont optionnelles si  numrows×numcols<10\n",
        "\n",
        "Ainsi subplot(211) est identique à subplot(2, 1, 1).\n",
        "\n",
        "> Exemple : Ecrire plt.subplot(4,3,2) en début de cellule crée et partage une figure en 4 x 3 emplacements de graphes (4 lignes et 3 colonnes) et sélectionne le 2ème emplacement pour les instructions graphiques suivantes.\n",
        "Pour afficher un graphique sur la case suivante, il suffit d'écrire plt.subplot(4,3,3)suivi des fonctions plt que l'on souhaite."
      ],
      "metadata": {
        "id": "2oZ9qJyKYf8R"
      }
    },
    {
      "cell_type": "markdown",
      "source": [
        "+ Depuis DF afficher sur une même figure, de taille (10,10) les quatre graphiques suivant :\n",
        "  + Un barplot du nombre de ventes du Produit 1.\n",
        "  + Un nuage de points du nombre de ventes du produit 2 en fonction du nombre de ventes du produit 1.\n",
        "  + Une courbe représentant le nombre de retours d'articles.\n",
        "  + Un histogramme représentant le chiffre d'affaire mensuel.\n",
        "\n",
        "\n",
        "*NB  : Vous pourrez utiliser, pour chaque graphique, les formes et couleurs de votre choix.*"
      ],
      "metadata": {
        "id": "SfzdzFSkYqkw"
      }
    },
    {
      "cell_type": "code",
      "source": [],
      "metadata": {
        "id": "lXn4iINuY3zU"
      },
      "execution_count": null,
      "outputs": []
    },
    {
      "cell_type": "code",
      "source": [
        "#@title\n",
        "fig = plt.figure(figsize=(10,10))\n",
        "\n",
        "plt.subplot(221)\n",
        "plt.bar(range(len(df)), df.Product1, label = 'Product1')\n",
        "\n",
        "plt.subplot(222)\n",
        "plt.scatter(df.Product1, df.Product2, c = 'y', label = \"Product2\")\n",
        "\n",
        "plt.subplot(223)\n",
        "plt.plot(df.Returns,'b*', label = \"Returns\")\n",
        "\n",
        "plt.subplot(224)\n",
        "plt.hist(df.Turnover, color='g', rwidth = 0.8, label = \"Turnover\");"
      ],
      "metadata": {
        "cellView": "form",
        "id": "pX3fK57lY4wG"
      },
      "execution_count": null,
      "outputs": []
    },
    {
      "cell_type": "markdown",
      "source": [
        "Les méthodes graphiques des Data Frames Pandas ne permettent pas d'afficher directement plusieurs graphiques différents au sein d'une même figure.\n",
        "Cependant, il peut être utile de noter que certaines méthodes comme plot contiennent le paramètre subplots qui s'il vaut True, divise la figure en autant de graphique que de variables présentes. Le paramètre layout permet de choisir la disposition des cellules que l'on crée.\n",
        "\n",
        "Voici un exemple de création de graphiques sur la même figure avec Pandas :"
      ],
      "metadata": {
        "id": "Dih-PV0zZiQl"
      }
    },
    {
      "cell_type": "code",
      "source": [
        "\n",
        "df.plot(y = ['Product1', 'Product2', 'Returns', 'Turnover'], subplots=True, layout= (2,2),\n",
        "        style = ['b--', 'm:p', 'g-.', 'c-d'], figsize=(7,7));"
      ],
      "metadata": {
        "colab": {
          "base_uri": "https://localhost:8080/",
          "height": 599
        },
        "id": "z6pB3XmSZlW2",
        "outputId": "8fa69c50-8153-4489-a5a5-8e50a1516614"
      },
      "execution_count": null,
      "outputs": [
        {
          "output_type": "display_data",
          "data": {
            "text/plain": [
              "<Figure size 700x700 with 4 Axes>"
            ],
            "image/png": "[encoded data removed]"
          },
          "metadata": {}
        }
      ]
    },
    {
      "cell_type": "markdown",
      "source": [
        "Sur matplotlib, il est également possible d'insérer un graphe à l'intérieur d'un autre, grâce à la fonction axes.\n",
        "Il suffit de lui donner en argument une liste contenant les positions x et y du point en bas à gauche du graphe à insérer, (valeurs entre 0 et 1, indépendamment des axes choisis) , ainsi que les dimensions de ce dernier (largeur et hauteur, entre 0 et 1).\n",
        "\n",
        "Pour plus de visibilité, il est recommandé de donner à cet axe un fond de couleur différente, grâce à l'ajout de l'argument facecolor. Par exemple, plt.axes([.5, 0.6, .2, .2], facecolor='grey') crée un graphique avec fond gris dont le point en bas à gauche se situe en abscisse au milieu du graphique actuel , en ordonnée à 60% de hauteur, et dont la largeur et la hauteur représentent 20% de celles du graphique actuel."
      ],
      "metadata": {
        "id": "WLiZbkUiZq7T"
      }
    },
    {
      "cell_type": "markdown",
      "source": [
        "**Dans un souci d'esthétisme, il est préférable de supprimer les graduations des axes des graphiques insérés dans d'autres. Les commandes plt.xticks([ ]) et plt.yticks([ ]) suffisent à supprimer respectivement les axes x et y.**"
      ],
      "metadata": {
        "id": "2Zu4qVHJZ1Fw"
      }
    },
    {
      "cell_type": "markdown",
      "source": [
        "+ Créer une figure de taille (7,7), contenant le boxplot associé au chiffre d'affaire mensuel ('Turnover')\n",
        "\n",
        "  + On cherche désormais à insérer une deuxième graphe au sein de ce premier :\n",
        "\n",
        "+ Créer un second graphique à la position (0.65, 0.65) et de taille (0.2, 0.15) avec un fond de code couleur #ffe5c1.\n",
        "\n",
        "+ A l'intérieur, tracez l'histogramme de la même variable de code couleur #FFC575.\n",
        "+ Supprimer les axes et donner aux abscisses le label : 'Distribution'."
      ],
      "metadata": {
        "id": "394f6NDNZ5op"
      }
    },
    {
      "cell_type": "code",
      "source": [],
      "metadata": {
        "id": "xgADvD9HaCs5"
      },
      "execution_count": null,
      "outputs": []
    },
    {
      "cell_type": "code",
      "source": [
        "#@title\n",
        "plt.figure(figsize = (7,7))\n",
        "plt.boxplot(df.Turnover)\n",
        "plt.title( 'Boxplot')\n",
        "plt.axes([0.65, 0.65, 0.2, 0.15], facecolor='#ffe5c1')\n",
        "plt.hist(df.Turnover, color='#FFC575')\n",
        "plt.xlabel('Distribution')\n",
        "plt.xticks([])\n",
        "plt.yticks([]);"
      ],
      "metadata": {
        "cellView": "form",
        "id": "p7j3sBUVaENC"
      },
      "execution_count": null,
      "outputs": []
    },
    {
      "cell_type": "markdown",
      "source": [
        "## BONUS : Texte et annotations"
      ],
      "metadata": {
        "id": "_Wbgx8D0aSUw"
      }
    },
    {
      "cell_type": "markdown",
      "source": [
        "Il est possible d'ajouter du texte aux graphique en indiquant les coordonnées où l'on veut afficher le début de celui-ci, grâce à la commande plt.text.\n",
        "\n",
        "Exemple : Utilisation de la commande plt.text\n",
        "\n",
        "`plt.text(3, 5,'monTexte')` affiche 'monTexte' horizontalement à partir du point (3,5) du graphique."
      ],
      "metadata": {
        "id": "1HZzsja9aZRD"
      }
    },
    {
      "cell_type": "code",
      "source": [
        "# Exemple \n",
        "\n",
        "t = np.arange(0.0, 2.0, 0.01)\n",
        "# On crée la séquence de points entre 0 et 2, avec un pas de 0.01\n",
        "\n",
        "plt.plot(t, np.cos(2*np.pi*t))\n",
        "# On trace la courbe de la fonction f(t)cos(2*pi*t)\n",
        "plt.ylim(-2,2)\n",
        "# On délimite l'axe des ordonnées entre -2 et 2.\n",
        "\n",
        "plt.text(0.8, 1.1, 'maximum local');\n",
        "# On affiche le texte 'maximum local', au point (1.5, 1.1) du graphique."
      ],
      "metadata": {
        "colab": {
          "base_uri": "https://localhost:8080/",
          "height": 435
        },
        "id": "q1AuQig2aVkQ",
        "outputId": "a8c17203-76de-4733-b92b-e03fd6c875b9"
      },
      "execution_count": null,
      "outputs": [
        {
          "output_type": "display_data",
          "data": {
            "text/plain": [
              "<Figure size 640x480 with 1 Axes>"
            ],
            "image/png": "[encoded data removed]"
          },
          "metadata": {}
        }
      ]
    },
    {
      "cell_type": "markdown",
      "source": [
        "Pour ajouter une annotation avec une flèche descriptive pointant vers un point précis du graphique, on utilise plt.annotate.\n",
        "Cette méthode prend les arguments suivants :\n",
        "\n",
        "+ le texte que l'on veut afficher.\n",
        "+ xy, qui indique les coordonnées où se trouve le point à annoter.\n",
        "+ xytext, qui indique les coordonnées du point où démarre le texte.\n",
        "+ arrowprops, qui sont les propriétés de la flèche d'annotation entre { } : couleurs, taille de la flèches, style de flèche, etc...\n",
        "\n",
        "Exemple : Utilisation de la commande plt.annotate\n",
        "\n",
        "`plt.annotate('Limite', xy=(1, 2), xytext=(1, 2.5), arrowprops={'facecolor':'blue'} )`\n",
        "\n",
        "affiche une flèche bleue pointant vers le point de coordonnées (1, 2) et affiche le texte 'Limite' au point (1, 2.5)."
      ],
      "metadata": {
        "id": "Bp22eJKWbW9i"
      }
    },
    {
      "cell_type": "code",
      "source": [
        "plt.grid(True)\n",
        "\n",
        "x = np.arange(0., 5., .01)\n",
        "\n",
        "y = np.sin(2*np.pi*x) * np.exp(-x)\n",
        "plt.plot(x, y)\n",
        "plt.plot(x, np.exp(-x))\n",
        "plt.plot(x, -np.exp(-x))\n",
        "\n",
        "plt.annotate('Asymptote: exp(-x)', xy=(1.5, 0.25), xytext=(2, 0.5), \n",
        "            arrowprops={'facecolor':'green'} )\n",
        "# On crée une flèche orientée vers le point (1.5, 0.25), avec l'annotation 'Assymptote: exp(-x)'\n",
        "# qui débute au point(2, 0.5). Puis on lui donne la couleur verte.\n",
        "\n",
        "plt.annotate('Assymptote: - exp(-x)', xy=(1.5, -0.25), xytext=(2, -0.5), \n",
        "            arrowprops={'facecolor':'red' } );"
      ],
      "metadata": {
        "colab": {
          "base_uri": "https://localhost:8080/",
          "height": 430
        },
        "id": "2v8ffkT_aWEo",
        "outputId": "6986e952-8dd8-46d9-a345-9026e45066a9"
      },
      "execution_count": null,
      "outputs": [
        {
          "output_type": "display_data",
          "data": {
            "text/plain": [
              "<Figure size 640x480 with 1 Axes>"
            ],
            "image/png": "[encoded data removed]"
          },
          "metadata": {}
        }
      ]
    },
    {
      "cell_type": "markdown",
      "source": [
        "Et voici un condensé de ce que l'on peut faire avec Matplotlib "
      ],
      "metadata": {
        "id": "RXSgfRrTbho-"
      }
    },
    {
      "cell_type": "code",
      "source": [
        "x = np.linspace(-6, 2, 40)\n",
        "# On crée une séquence de 40 points dans l'intervalle [-6, 2]\n",
        "\n",
        "plt.grid(True, linestyle = '--')\n",
        "# On ajoute un quadrillage au graphique\n",
        "\n",
        "plt.plot(x, x**2, 'b',label='$x^2$')\n",
        "# On trace la courbe x^2 et on lui donne le label correspondant pour la légende.\n",
        "\n",
        "plt.plot(x,np.exp(-x), 'g--', label='$exp(-x)$')\n",
        "# On trace la courbe exp(-x) en pointillés et on lui donne le label correspondant pour la légende.\n",
        "\n",
        "plt.axis([-5,2,0,25])\n",
        "# On modifie l'amplitude des axes\n",
        "\n",
        "plt.plot([-3, -2, -2, -3, -3],[5, 5, 10, 10, 5],'r', alpha = 0.6)\n",
        "# On crée le carré qui entoure la partie du graphique que l'on va reproduire\n",
        "# L'argument 'alpha' donne le pourcentage d'opacité du plot (1 opaque, 0 transparent invisible)\n",
        "\n",
        "plt.annotate('Zoom', xy=(-1.8, 7.5), xytext=(-0.5, 7.5), \n",
        "            arrowprops={'facecolor':'red'} )\n",
        "# On crée la flèche rouge, avec le texte 'Zoom' dirigé vers le point (-1.8, 7.5).\n",
        "\n",
        "plt.title('Mon graphique bilan')\n",
        "#On donne un titre au graphique\n",
        "\n",
        "plt.legend()\n",
        "# On affiche les légendes\n",
        "\n",
        "plt.axes([.55, 0.4, .2, .2])\n",
        "# On crée un nouveau graphique à l'intérieur du précédent,\n",
        "# dont le coin en bas à gauche démarre au point (0.55, 0.4) en distance relative, \n",
        "# où 0 représente l'origine, et 1 le bout de l'axe.\n",
        "# Ce graphique aura une largeur et une hauteur représentants 20% de la largeur \n",
        "# et de la hauteur du graphique d'origine.\n",
        "\n",
        "#A partir de là, les commande 'pyplot' s'appliqueront uniquement à ce nouveau graphique.\n",
        "\n",
        "plt.plot(x,x**2, 'b')\n",
        "plt.plot(x,np.exp(-x), 'g--')\n",
        "# On trace les mêmes courbes que précedemment.\n",
        "\n",
        "plt.axis([-3,-2,5,10])\n",
        "# Mais on limite les axes aux coordonnées du carré que l'on a tracé.\n",
        "\n",
        "plt.xticks([])\n",
        "plt.yticks([]);\n",
        "# On supprime les graduations sur le nouveau graphique."
      ],
      "metadata": {
        "colab": {
          "base_uri": "https://localhost:8080/",
          "height": 452
        },
        "id": "zM-m-DvjbA2x",
        "outputId": "0e4976c8-b0bd-4a85-a5c0-3f2dfa1db6ba"
      },
      "execution_count": null,
      "outputs": [
        {
          "output_type": "display_data",
          "data": {
            "text/plain": [
              "<Figure size 640x480 with 2 Axes>"
            ],
            "image/png": "[encoded data removed]"
          },
          "metadata": {}
        }
      ]
    }
  ]
}
{
  "nbformat": 4,
  "nbformat_minor": 0,
  "metadata": {
    "colab": {
      "provenance": [],
      "authorship_tag": "ABX9TyNCVc7q9WNtqTIo9MWpv7Vl",
      "include_colab_link": true
    },
    "kernelspec": {
      "name": "python3",
      "display_name": "Python 3"
    },
    "language_info": {
      "name": "python"
    }
  },
  "cells": [
    {
      "cell_type": "markdown",
      "metadata": {
        "id": "view-in-github",
        "colab_type": "text"
      },
      "source": [
        "<a href=\"https://colab.research.google.com/github/choarauc/form_ch/blob/main/solution_api_python_snowflake_.ipynb\" target=\"_parent\"><img src=\"https://colab.research.google.com/assets/colab-badge.svg\" alt=\"Open In Colab\"/></a>"
      ]
    },
    {
      "cell_type": "markdown",
      "source": [
        "Le dojo d'aujourd'hui va vous apprendre à \n",
        "\n",
        "> + utiliser une API \n",
        ">\n",
        ">  + voici la [doc](https://randomuser.me/documentation) de l'api  \n",
        " + et le [lien](https://randomuser.me/api/?results=10) pour récupérer la data en json \n",
        ">\n",
        "> + manipuler les données en Python \n",
        ">\n",
        "> + les injecter dans Snowflake qui est l'un des DWH le plus utilisé sur le marché\n",
        ">\n",
        ">  + tout savoir [snowflake](https://www.lebigdata.fr/snowflake-tout-savoir)  \n",
        ">>\n",
        ">> Pour ce faire vous devrez créer un compte sur https://www.snowflake.com/fr/ qui est gratuit pendant 30 jours (aucunes cb n'est requise) \n",
        ">>\n",
        ">> à l'issue du dojo nous supprimerons le compte ! \n",
        "\n",
        "\n"
      ],
      "metadata": {
        "id": "nbdi4THIu1X1"
      }
    },
    {
      "cell_type": "markdown",
      "source": [
        "# Importer les données de l'API et les stocker dans un df "
      ],
      "metadata": {
        "id": "bx_RyFy7ye13"
      }
    },
    {
      "cell_type": "code",
      "source": [
        "import requests\n",
        "import pandas as pd\n",
        "\n",
        "url = 'https://randomuser.me/api/?results=10'\n",
        "\n",
        "try:\n",
        "    response = requests.get(url)\n",
        "    response.raise_for_status()\n",
        "    data = response.json()\n",
        "    df = pd.DataFrame(data['results'])\n",
        "    display(df)\n",
        "except requests.exceptions.RequestException as e:\n",
        "    print('Une erreur est survenue lors de l\\'appel à l\\'API :', e)"
      ],
      "metadata": {
        "id": "KNOLzBPoqMLN"
      },
      "execution_count": null,
      "outputs": []
    },
    {
      "cell_type": "code",
      "source": [
        "df.info()"
      ],
      "metadata": {
        "id": "gG_Uo8zjqP_l"
      },
      "execution_count": null,
      "outputs": []
    },
    {
      "cell_type": "markdown",
      "source": [
        "# Supprimer les colonne dob, registered, cell, id, picture & login"
      ],
      "metadata": {
        "id": "VpCjs2_Gym11"
      }
    },
    {
      "cell_type": "code",
      "source": [
        "df = df.drop(['dob', 'registered', 'cell', 'id', 'picture', 'login'], axis=1)"
      ],
      "metadata": {
        "id": "D-Wy-IpMqp0Q"
      },
      "execution_count": 4,
      "outputs": []
    },
    {
      "cell_type": "code",
      "source": [
        "df"
      ],
      "metadata": {
        "id": "K1lF4yh9WnA2"
      },
      "execution_count": null,
      "outputs": []
    },
    {
      "cell_type": "markdown",
      "source": [
        "# nous voulons récupérer le nom et prénom uniquement puis supprimer la colonne name "
      ],
      "metadata": {
        "id": "xJntBxkeyvDU"
      }
    },
    {
      "cell_type": "code",
      "source": [
        "#nb si vous avez utiliser la fonction normalize json vous n'avez pas à faire ces 2 questions "
      ],
      "metadata": {
        "id": "xOdTJJ5WWW6j"
      },
      "execution_count": null,
      "outputs": []
    },
    {
      "cell_type": "code",
      "source": [
        "df[['first_name', 'last_name']] = df['name'].apply(lambda x: pd.Series([x['first'], x['last']]))"
      ],
      "metadata": {
        "id": "JlixmSzFrdvd"
      },
      "execution_count": 14,
      "outputs": []
    },
    {
      "cell_type": "code",
      "source": [
        "df = df.drop('name', axis=1)"
      ],
      "metadata": {
        "id": "eVNSJXNXtM4_"
      },
      "execution_count": 16,
      "outputs": []
    },
    {
      "cell_type": "code",
      "source": [
        "df"
      ],
      "metadata": {
        "id": "My1q4ibtWllw"
      },
      "execution_count": null,
      "outputs": []
    },
    {
      "cell_type": "markdown",
      "source": [
        "# Idem nous ne garderons que ville et pays puis supprimer location\n"
      ],
      "metadata": {
        "id": "2UK0i11qzTLY"
      }
    },
    {
      "cell_type": "code",
      "source": [
        "df[['city', 'country']] = df['location'].apply(lambda x: pd.Series([x['city'], x['country']]))"
      ],
      "metadata": {
        "id": "N2lq4ITZtXqr"
      },
      "execution_count": 19,
      "outputs": []
    },
    {
      "cell_type": "code",
      "source": [
        "df = df.drop('location', axis=1)"
      ],
      "metadata": {
        "id": "4-yPnK-Wti68"
      },
      "execution_count": 21,
      "outputs": []
    },
    {
      "cell_type": "code",
      "source": [
        "df"
      ],
      "metadata": {
        "id": "jL8A6OtcWmSj"
      },
      "execution_count": null,
      "outputs": []
    },
    {
      "cell_type": "markdown",
      "source": [
        "# Nous allons remettre en ordre les colonnes pour avoir :\n",
        " `'gender', 'first_name', 'last_name', 'email', 'phone', 'city', 'country'`"
      ],
      "metadata": {
        "id": "ExwCjkZaGI85"
      }
    },
    {
      "cell_type": "code",
      "source": [
        "new_order = ['gender', 'first_name', 'last_name', 'email', 'phone', 'city', 'country']\n",
        "df = df.reindex(columns=new_order)"
      ],
      "metadata": {
        "id": "bXrgOaOPuHX_"
      },
      "execution_count": 24,
      "outputs": []
    },
    {
      "cell_type": "code",
      "source": [
        "df"
      ],
      "metadata": {
        "id": "GZuqI5OoWof1"
      },
      "execution_count": null,
      "outputs": []
    },
    {
      "cell_type": "markdown",
      "source": [
        "# A partir de là, nous souhaitons intégrer ces données dans snowflake avec le connecteur "
      ],
      "metadata": {
        "id": "btAidDyJGWum"
      }
    },
    {
      "cell_type": "code",
      "source": [
        "!pip install snowflake-connector-python"
      ],
      "metadata": {
        "id": "RS2rQheGxaEz"
      },
      "execution_count": null,
      "outputs": []
    },
    {
      "cell_type": "code",
      "source": [
        "import snowflake.connector"
      ],
      "metadata": {
        "id": "bB6_oaoFuPG8"
      },
      "execution_count": 31,
      "outputs": []
    },
    {
      "cell_type": "code",
      "source": [
        "cnx = snowflake.connector.connect(\n",
        "    user='<your_user>',\n",
        "    password='<your_password>',\n",
        "    account='<your_account>',\n",
        "    warehouse='<your_warehouse>',\n",
        "    database='<your_database>',\n",
        "    schema='<your_schema>'\n",
        ")\n",
        "\n",
        "cur = cnx.cursor()"
      ],
      "metadata": {
        "id": "D2oUngX-wEkI"
      },
      "execution_count": null,
      "outputs": []
    },
    {
      "cell_type": "code",
      "source": [
        "marequete = ''\n",
        "for index, row in df.iterrows():\n",
        "    marequete = marequete + \"('{}', '{}', '{}', '{}', '{}', '{}', '{}'),\".format(\n",
        "        row['gender'].replace(\"'\", \"''\"),\n",
        "        row['first_name'].replace(\"'\", \"''\"),\n",
        "        row['last_name'].replace(\"'\", \"''\"),\n",
        "        row['email'].replace(\"'\", \"''\"),\n",
        "        row['phone'].replace(\"'\", \"''\"),\n",
        "        row['city'].replace(\"'\", \"''\"),\n",
        "        row['country'].replace(\"'\", \"''\"),\n",
        "    )\n",
        "\n",
        "marequete = marequete[:-1]\n",
        "marequete = \"INSERT INTO CLIENT (gender, first_name, last_name, email, phone, city, country) VALUES \" + marequete\n",
        "cur.execute(marequete)\n",
        "\n",
        "# Valider les modifications\n",
        "cnx.commit()"
      ],
      "metadata": {
        "id": "OrP8VvQ9x5nJ"
      },
      "execution_count": null,
      "outputs": []
    },
    {
      "cell_type": "code",
      "source": [
        "cnx.close()"
      ],
      "metadata": {
        "id": "dnUsZ9uTV1N2"
      },
      "execution_count": null,
      "outputs": []
    },
    {
      "cell_type": "markdown",
      "source": [
        "# Réaliser une viz sur looker depuis snowflake "
      ],
      "metadata": {
        "id": "8j4iZJ9wWDIq"
      }
    }
  ]
}